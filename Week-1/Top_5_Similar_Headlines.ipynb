{
  "nbformat": 4,
  "nbformat_minor": 0,
  "metadata": {
    "colab": {
      "provenance": []
    },
    "kernelspec": {
      "name": "python3",
      "display_name": "Python 3"
    },
    "language_info": {
      "name": "python"
    }
  },
  "cells": [
    {
      "cell_type": "code",
      "execution_count": 1,
      "metadata": {
        "colab": {
          "base_uri": "https://localhost:8080/"
        },
        "id": "W31rQzY12k7c",
        "outputId": "f378e4f5-2518-45bf-db0e-3a791c1cbfe0"
      },
      "outputs": [
        {
          "output_type": "stream",
          "name": "stdout",
          "text": [
            "Path to dataset files: /kaggle/input/news-category-dataset\n"
          ]
        }
      ],
      "source": [
        "import kagglehub\n",
        "path = kagglehub.dataset_download(\"rmisra/news-category-dataset\")\n",
        "\n",
        "print(\"Path to dataset files:\", path)"
      ]
    },
    {
      "cell_type": "code",
      "source": [
        "!ls /kaggle/input/news-category-dataset/"
      ],
      "metadata": {
        "colab": {
          "base_uri": "https://localhost:8080/"
        },
        "id": "bbPtwj5B9sE6",
        "outputId": "3c2c61e7-7445-48c5-a4f7-7848dc607c84"
      },
      "execution_count": 2,
      "outputs": [
        {
          "output_type": "stream",
          "name": "stdout",
          "text": [
            "News_Category_Dataset_v3.json\n"
          ]
        }
      ]
    },
    {
      "cell_type": "code",
      "source": [
        "import json"
      ],
      "metadata": {
        "id": "9igVemH22oMg"
      },
      "execution_count": 3,
      "outputs": []
    },
    {
      "cell_type": "code",
      "source": [
        "file_path = '/kaggle/input/news-category-dataset/News_Category_Dataset_v3.json'\n",
        "i = 0\n",
        "with open(file_path, 'r') as file:\n",
        "    data = []\n",
        "    for line in file:\n",
        "        i += 1\n",
        "        data.append(json.loads(line.strip()))\n",
        "        if (i % 100 == 0):\n",
        "          print(i)\n",
        "        if (i == 10000):\n",
        "          break\n",
        "\n",
        "# print(data)\n"
      ],
      "metadata": {
        "colab": {
          "base_uri": "https://localhost:8080/"
        },
        "id": "xv3-tIWW9uIg",
        "outputId": "786e8593-c1ec-4e5d-9bea-f750efebeeef"
      },
      "execution_count": 151,
      "outputs": [
        {
          "output_type": "stream",
          "name": "stdout",
          "text": [
            "100\n",
            "200\n",
            "300\n",
            "400\n",
            "500\n",
            "600\n",
            "700\n",
            "800\n",
            "900\n",
            "1000\n",
            "1100\n",
            "1200\n",
            "1300\n",
            "1400\n",
            "1500\n",
            "1600\n",
            "1700\n",
            "1800\n",
            "1900\n",
            "2000\n",
            "2100\n",
            "2200\n",
            "2300\n",
            "2400\n",
            "2500\n",
            "2600\n",
            "2700\n",
            "2800\n",
            "2900\n",
            "3000\n",
            "3100\n",
            "3200\n",
            "3300\n",
            "3400\n",
            "3500\n",
            "3600\n",
            "3700\n",
            "3800\n",
            "3900\n",
            "4000\n",
            "4100\n",
            "4200\n",
            "4300\n",
            "4400\n",
            "4500\n",
            "4600\n",
            "4700\n",
            "4800\n",
            "4900\n",
            "5000\n",
            "5100\n",
            "5200\n",
            "5300\n",
            "5400\n",
            "5500\n",
            "5600\n",
            "5700\n",
            "5800\n",
            "5900\n",
            "6000\n",
            "6100\n",
            "6200\n",
            "6300\n",
            "6400\n",
            "6500\n",
            "6600\n",
            "6700\n",
            "6800\n",
            "6900\n",
            "7000\n",
            "7100\n",
            "7200\n",
            "7300\n",
            "7400\n",
            "7500\n",
            "7600\n",
            "7700\n",
            "7800\n",
            "7900\n",
            "8000\n",
            "8100\n",
            "8200\n",
            "8300\n",
            "8400\n",
            "8500\n",
            "8600\n",
            "8700\n",
            "8800\n",
            "8900\n",
            "9000\n",
            "9100\n",
            "9200\n",
            "9300\n",
            "9400\n",
            "9500\n",
            "9600\n",
            "9700\n",
            "9800\n",
            "9900\n",
            "10000\n"
          ]
        }
      ]
    },
    {
      "cell_type": "code",
      "source": [
        "data[0]"
      ],
      "metadata": {
        "colab": {
          "base_uri": "https://localhost:8080/"
        },
        "id": "j65_I_rJ-QHP",
        "outputId": "1a4e5519-120c-4cc4-ba7f-61f37b5e886d"
      },
      "execution_count": 152,
      "outputs": [
        {
          "output_type": "execute_result",
          "data": {
            "text/plain": [
              "{'link': 'https://www.huffpost.com/entry/covid-boosters-uptake-us_n_632d719ee4b087fae6feaac9',\n",
              " 'headline': 'Over 4 Million Americans Roll Up Sleeves For Omicron-Targeted COVID Boosters',\n",
              " 'category': 'U.S. NEWS',\n",
              " 'short_description': 'Health experts said it is too early to predict whether demand would match up with the 171 million doses of the new boosters the U.S. ordered for the fall.',\n",
              " 'authors': 'Carla K. Johnson, AP',\n",
              " 'date': '2022-09-23'}"
            ]
          },
          "metadata": {},
          "execution_count": 152
        }
      ]
    },
    {
      "cell_type": "code",
      "source": [
        "!pip install gensim\n",
        "import gensim"
      ],
      "metadata": {
        "colab": {
          "base_uri": "https://localhost:8080/"
        },
        "id": "Au0iDoSb-SMc",
        "outputId": "09e6b598-9b5f-4a75-83c3-8416260ec4cc"
      },
      "execution_count": 6,
      "outputs": [
        {
          "output_type": "stream",
          "name": "stdout",
          "text": [
            "Requirement already satisfied: gensim in /usr/local/lib/python3.11/dist-packages (4.3.3)\n",
            "Requirement already satisfied: numpy<2.0,>=1.18.5 in /usr/local/lib/python3.11/dist-packages (from gensim) (1.26.4)\n",
            "Requirement already satisfied: scipy<1.14.0,>=1.7.0 in /usr/local/lib/python3.11/dist-packages (from gensim) (1.13.1)\n",
            "Requirement already satisfied: smart-open>=1.8.1 in /usr/local/lib/python3.11/dist-packages (from gensim) (7.1.0)\n",
            "Requirement already satisfied: wrapt in /usr/local/lib/python3.11/dist-packages (from smart-open>=1.8.1->gensim) (1.17.2)\n"
          ]
        }
      ]
    },
    {
      "cell_type": "code",
      "source": [
        "headlines = [d['headline'] for d in data]"
      ],
      "metadata": {
        "id": "2LeIEC_N-zq-"
      },
      "execution_count": 153,
      "outputs": []
    },
    {
      "cell_type": "code",
      "source": [
        "import gensim.downloader as api\n",
        "\n",
        "wv = api.load('word2vec-google-news-300')"
      ],
      "metadata": {
        "colab": {
          "base_uri": "https://localhost:8080/"
        },
        "id": "dBo67ZK7-4nk",
        "outputId": "74e00fce-b706-416d-84f6-f1afd41e4f2a"
      },
      "execution_count": 8,
      "outputs": [
        {
          "output_type": "stream",
          "name": "stdout",
          "text": [
            "[==================================================] 100.0% 1662.8/1662.8MB downloaded\n"
          ]
        }
      ]
    },
    {
      "cell_type": "code",
      "source": [
        "import pandas as pd"
      ],
      "metadata": {
        "id": "9RiKBhZsBR4Y"
      },
      "execution_count": 9,
      "outputs": []
    },
    {
      "cell_type": "code",
      "source": [
        "df = pd.DataFrame(columns = ['Sentence', 'Embedding'])"
      ],
      "metadata": {
        "id": "4zX6lrQYBLMX"
      },
      "execution_count": 10,
      "outputs": []
    },
    {
      "cell_type": "code",
      "source": [
        "from nltk.tokenize import WordPunctTokenizer"
      ],
      "metadata": {
        "id": "9jdOSWciC0bc"
      },
      "execution_count": 15,
      "outputs": []
    },
    {
      "cell_type": "code",
      "source": [
        "tokenizer = WordPunctTokenizer()"
      ],
      "metadata": {
        "id": "VDfpq8_kC4-k"
      },
      "execution_count": 16,
      "outputs": []
    },
    {
      "cell_type": "code",
      "source": [
        "headlines_split = [tokenizer.tokenize(headline) for headline in headlines]"
      ],
      "metadata": {
        "id": "cMoYOUvCCw2S"
      },
      "execution_count": 154,
      "outputs": []
    },
    {
      "cell_type": "code",
      "source": [
        "embedding_list = []"
      ],
      "metadata": {
        "id": "KUdBaM0RDR9O"
      },
      "execution_count": 155,
      "outputs": []
    },
    {
      "cell_type": "code",
      "source": [
        "for i in range(0, len(headlines)):\n",
        "  split_hl = tokenizer.tokenize(headlines[i])\n",
        "  embedding_list.append(wv.get_mean_vector(split_hl, post_normalize=True))"
      ],
      "metadata": {
        "id": "uXvkgP-EDDVW"
      },
      "execution_count": 156,
      "outputs": []
    },
    {
      "cell_type": "code",
      "source": [
        "import numpy as np"
      ],
      "metadata": {
        "id": "94RMhpmPBjPP"
      },
      "execution_count": 108,
      "outputs": []
    },
    {
      "cell_type": "code",
      "source": [
        "lookup = np.stack(embedding_list)"
      ],
      "metadata": {
        "id": "GTRYopDeD-xS"
      },
      "execution_count": 157,
      "outputs": []
    },
    {
      "cell_type": "code",
      "source": [
        "lookup.shape"
      ],
      "metadata": {
        "colab": {
          "base_uri": "https://localhost:8080/"
        },
        "id": "hBLm9rYnEZyE",
        "outputId": "a6e542d5-fa05-4c11-c9ac-dbbca1363736"
      },
      "execution_count": 158,
      "outputs": [
        {
          "output_type": "execute_result",
          "data": {
            "text/plain": [
              "(10000, 300)"
            ]
          },
          "metadata": {},
          "execution_count": 158
        }
      ]
    },
    {
      "cell_type": "code",
      "source": [
        "sent = \"Melting Glaciers in Polar Regions\""
      ],
      "metadata": {
        "id": "VJM8IZebEdsG"
      },
      "execution_count": 292,
      "outputs": []
    },
    {
      "cell_type": "code",
      "source": [
        "sent_emb = wv.get_mean_vector(tokenizer.tokenize(sent), post_normalize=True)"
      ],
      "metadata": {
        "id": "2o4AN5HrEuB4"
      },
      "execution_count": 293,
      "outputs": []
    },
    {
      "cell_type": "code",
      "source": [
        "dot_pdt = lookup @ sent_emb\n",
        "top_5_indices = np.argsort(dot_pdt)[-5:]  # Indices of top 5 values\n",
        "print(top_5_indices)"
      ],
      "metadata": {
        "colab": {
          "base_uri": "https://localhost:8080/"
        },
        "id": "tCzlLdqzE5py",
        "outputId": "d5696b5f-1eac-4cdf-f744-9bc89254824e"
      },
      "execution_count": 294,
      "outputs": [
        {
          "output_type": "stream",
          "name": "stdout",
          "text": [
            "[1335 2563 6273 4684 3793]\n"
          ]
        }
      ]
    },
    {
      "cell_type": "code",
      "source": [
        "for index in top_5_indices[::-1]:\n",
        "  print(f'{headlines[index]} : {100 * dot_pdt[index]}% match')"
      ],
      "metadata": {
        "colab": {
          "base_uri": "https://localhost:8080/"
        },
        "id": "FGd0Fhr-FFCQ",
        "outputId": "4fc8f10c-4072-4c15-c588-8a05dca02365"
      },
      "execution_count": 295,
      "outputs": [
        {
          "output_type": "stream",
          "name": "stdout",
          "text": [
            "Russian Scientists Discover Huge Walrus Haulout In Arctic Circle : 59.28940773010254% match\n",
            "Russian Diesel Spill That Stained Rivers Red May Have Been Due To Melting Permafrost : 56.238001585006714% match\n",
            "Greenland's Fast-Melting Ice Is A Warning To The Rest Of The World : 55.17604351043701% match\n",
            "Scientists Revive 24,000-Year-Old Animal Found In Siberian Permafrost : 53.81229519844055% match\n",
            "No Life On Martian Meteorite Found In Antarctica In 1996 : 52.869975566864014% match\n"
          ]
        }
      ]
    },
    {
      "cell_type": "code",
      "source": [],
      "metadata": {
        "id": "0CwsXT8kJsM9"
      },
      "execution_count": null,
      "outputs": []
    }
  ]
}