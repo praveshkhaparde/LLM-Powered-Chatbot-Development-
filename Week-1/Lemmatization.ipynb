{
 "cells": [
  {
   "cell_type": "code",
   "execution_count": null,
   "id": "b718defc",
   "metadata": {},
   "outputs": [],
   "source": [
    "## Lemmatization is like stemming\n",
    "## Output is called 'lemma'\n",
    "## Lemma = Root Word\n",
    "\n",
    "## After lemmatization, we get a valid word that has a meaning"
   ]
  },
  {
   "cell_type": "code",
   "execution_count": 1,
   "id": "3e130f9d",
   "metadata": {},
   "outputs": [],
   "source": [
    "from nltk.stem import WordNetLemmatizer"
   ]
  },
  {
   "cell_type": "code",
   "execution_count": 2,
   "id": "f1b512bd",
   "metadata": {},
   "outputs": [],
   "source": [
    "## WordNetLemmatizer class is a thin wrapper around the WordNet corpus\n",
    "## The class uses the 'morphy()' function to the WordNet CorpusReader\n",
    "## class to find a lemma"
   ]
  },
  {
   "cell_type": "code",
   "execution_count": null,
   "id": "8b3f1324",
   "metadata": {},
   "outputs": [],
   "source": [
    "lemmatizer = WordNetLemmatizer()\n",
    "## Lemmatization is slower than Stemming"
   ]
  },
  {
   "cell_type": "code",
   "execution_count": 5,
   "id": "256a7672",
   "metadata": {},
   "outputs": [
    {
     "data": {
      "text/plain": [
       "'going'"
      ]
     },
     "execution_count": 5,
     "metadata": {},
     "output_type": "execute_result"
    }
   ],
   "source": [
    "lemmatizer.lemmatize('going')"
   ]
  },
  {
   "cell_type": "code",
   "execution_count": null,
   "id": "b86b5c5f",
   "metadata": {},
   "outputs": [],
   "source": [
    "\"\"\"\n",
    "    POS Tag (consider the word fed is a noun/verb/adj)\n",
    "    Noun-n [DEFAULT]\n",
    "    verb-v\n",
    "    adjective-a\n",
    "    adverb-r\n",
    "\"\"\""
   ]
  },
  {
   "cell_type": "code",
   "execution_count": 6,
   "id": "43036058",
   "metadata": {},
   "outputs": [
    {
     "data": {
      "text/plain": [
       "'go'"
      ]
     },
     "execution_count": 6,
     "metadata": {},
     "output_type": "execute_result"
    }
   ],
   "source": [
    "lemmatizer.lemmatize('going', 'v')"
   ]
  },
  {
   "cell_type": "code",
   "execution_count": 7,
   "id": "7541a1c6",
   "metadata": {},
   "outputs": [],
   "source": [
    "words = [\"eating\", \"eats\",\n",
    "        'eaten', 'write',\n",
    "        'wrote', 'written',\n",
    "        'writing', 'writer',\n",
    "        'programming', 'programmer',\n",
    "        'programs', 'history'\n",
    "]"
   ]
  },
  {
   "cell_type": "code",
   "execution_count": 9,
   "id": "c533a971",
   "metadata": {},
   "outputs": [
    {
     "name": "stdout",
     "output_type": "stream",
     "text": [
      "eating\n",
      "eats\n",
      "eaten\n",
      "write\n",
      "wrote\n",
      "written\n",
      "writing\n",
      "writer\n",
      "programming\n",
      "programmer\n",
      "program\n",
      "history\n"
     ]
    }
   ],
   "source": [
    "for word in words:\n",
    "    print(lemmatizer.lemmatize(word))"
   ]
  },
  {
   "cell_type": "code",
   "execution_count": 11,
   "id": "d65cb0e5",
   "metadata": {},
   "outputs": [
    {
     "name": "stdout",
     "output_type": "stream",
     "text": [
      "eat\n",
      "eat\n",
      "eat\n",
      "write\n",
      "write\n",
      "write\n",
      "write\n",
      "writer\n",
      "program\n",
      "programmer\n",
      "program\n",
      "history\n"
     ]
    }
   ],
   "source": [
    "for word in words:\n",
    "    print(lemmatizer.lemmatize(word, 'v'))"
   ]
  },
  {
   "cell_type": "code",
   "execution_count": 12,
   "id": "77bf8fe8",
   "metadata": {},
   "outputs": [
    {
     "data": {
      "text/plain": [
       "'go'"
      ]
     },
     "execution_count": 12,
     "metadata": {},
     "output_type": "execute_result"
    }
   ],
   "source": [
    "lemmatizer.lemmatize('goes')"
   ]
  },
  {
   "cell_type": "code",
   "execution_count": 21,
   "id": "87d46429",
   "metadata": {},
   "outputs": [
    {
     "data": {
      "text/plain": [
       "'slowly'"
      ]
     },
     "execution_count": 21,
     "metadata": {},
     "output_type": "execute_result"
    }
   ],
   "source": [
    "lemmatizer.lemmatize('slowly', pos = 'r')"
   ]
  },
  {
   "cell_type": "code",
   "execution_count": null,
   "id": "cda81ce6",
   "metadata": {},
   "outputs": [],
   "source": [
    "## Use Case: Q/A, Chatbots, Text Summarisation"
   ]
  }
 ],
 "metadata": {
  "kernelspec": {
   "display_name": "Python 3",
   "language": "python",
   "name": "python3"
  },
  "language_info": {
   "codemirror_mode": {
    "name": "ipython",
    "version": 3
   },
   "file_extension": ".py",
   "mimetype": "text/x-python",
   "name": "python",
   "nbconvert_exporter": "python",
   "pygments_lexer": "ipython3",
   "version": "3.13.3"
  }
 },
 "nbformat": 4,
 "nbformat_minor": 5
}
