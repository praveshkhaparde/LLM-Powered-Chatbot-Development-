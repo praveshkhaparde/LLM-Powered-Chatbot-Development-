{
 "cells": [
  {
   "cell_type": "code",
   "execution_count": 1,
   "id": "50bc9cfc",
   "metadata": {},
   "outputs": [],
   "source": [
    "sentence=\"The Eiffel Tower was built from 1887 to 1889 by Gustave Eiffel, whose company specialized in building metal frameworks and structures.\""
   ]
  },
  {
   "cell_type": "code",
   "execution_count": 2,
   "id": "affbb666",
   "metadata": {},
   "outputs": [],
   "source": [
    "## Named Entity Tags:\n",
    "## Person, Place/Location, Date, Time, Money, Organisation, Money"
   ]
  },
  {
   "cell_type": "code",
   "execution_count": 3,
   "id": "308032af",
   "metadata": {},
   "outputs": [],
   "source": [
    "import nltk\n",
    "words = nltk.word_tokenize(sentence)"
   ]
  },
  {
   "cell_type": "code",
   "execution_count": 5,
   "id": "767ad78a",
   "metadata": {},
   "outputs": [],
   "source": [
    "tag_elements = nltk.pos_tag(words)"
   ]
  },
  {
   "cell_type": "code",
   "execution_count": 8,
   "id": "15881d88",
   "metadata": {},
   "outputs": [],
   "source": [
    "nltk.ne_chunk(tag_elements).draw() ## Named Entity Chunker, takes in a list of tagged tokens"
   ]
  },
  {
   "cell_type": "code",
   "execution_count": null,
   "id": "5189dbee",
   "metadata": {},
   "outputs": [],
   "source": [
    "## See a tree/hierarchical graph that shows the named entities"
   ]
  }
 ],
 "metadata": {
  "kernelspec": {
   "display_name": "Python 3",
   "language": "python",
   "name": "python3"
  },
  "language_info": {
   "codemirror_mode": {
    "name": "ipython",
    "version": 3
   },
   "file_extension": ".py",
   "mimetype": "text/x-python",
   "name": "python",
   "nbconvert_exporter": "python",
   "pygments_lexer": "ipython3",
   "version": "3.13.3"
  }
 },
 "nbformat": 4,
 "nbformat_minor": 5
}
