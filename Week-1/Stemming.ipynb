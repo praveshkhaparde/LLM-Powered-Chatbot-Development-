{
 "cells": [
  {
   "cell_type": "code",
   "execution_count": 24,
   "id": "5c80e876",
   "metadata": {},
   "outputs": [],
   "source": [
    "words = [\"eating\", \"eats\",\n",
    "        'eaten', 'write',\n",
    "        'wrote', 'written',\n",
    "        'writing', 'writer',\n",
    "        'programming', 'programmer',\n",
    "        'programs', 'history'\n",
    "]"
   ]
  },
  {
   "cell_type": "code",
   "execution_count": 25,
   "id": "81b16bce",
   "metadata": {},
   "outputs": [],
   "source": [
    "from nltk.stem import PorterStemmer"
   ]
  },
  {
   "cell_type": "code",
   "execution_count": 26,
   "id": "f8812e9a",
   "metadata": {},
   "outputs": [],
   "source": [
    "stemming = PorterStemmer()"
   ]
  },
  {
   "cell_type": "code",
   "execution_count": 27,
   "id": "c3e2a699",
   "metadata": {},
   "outputs": [
    {
     "name": "stdout",
     "output_type": "stream",
     "text": [
      "eating: eat\n",
      "eats: eat\n",
      "eaten: eaten\n",
      "write: write\n",
      "wrote: wrote\n",
      "written: written\n",
      "writing: write\n",
      "writer: writer\n",
      "programming: program\n",
      "programmer: programm\n",
      "programs: program\n",
      "history: histori\n"
     ]
    }
   ],
   "source": [
    "for word in words:\n",
    "    print(f\"{word}: {stemming.stem(word)}\")"
   ]
  },
  {
   "cell_type": "code",
   "execution_count": 28,
   "id": "a2cf72b0",
   "metadata": {},
   "outputs": [
    {
     "data": {
      "text/plain": [
       "'congratul'"
      ]
     },
     "execution_count": 28,
     "metadata": {},
     "output_type": "execute_result"
    }
   ],
   "source": [
    "stemming.stem('congratulations')"
   ]
  },
  {
   "cell_type": "code",
   "execution_count": 29,
   "id": "978dfb3a",
   "metadata": {},
   "outputs": [],
   "source": [
    "## One major disadvantage of stemming:\n",
    "## Sometimes the meaning or sense of the word is not conveyed\n",
    "## Sometimes no meaning at all"
   ]
  },
  {
   "cell_type": "code",
   "execution_count": 30,
   "id": "54cd5013",
   "metadata": {},
   "outputs": [
    {
     "data": {
      "text/plain": [
       "'sit'"
      ]
     },
     "execution_count": 30,
     "metadata": {},
     "output_type": "execute_result"
    }
   ],
   "source": [
    "stemming.stem('sitting')"
   ]
  },
  {
   "cell_type": "code",
   "execution_count": 31,
   "id": "5d0d9036",
   "metadata": {},
   "outputs": [
    {
     "data": {
      "text/plain": [
       "'seat'"
      ]
     },
     "execution_count": 31,
     "metadata": {},
     "output_type": "execute_result"
    }
   ],
   "source": [
    "stemming.stem('seating')"
   ]
  },
  {
   "cell_type": "code",
   "execution_count": 32,
   "id": "02e22cde",
   "metadata": {},
   "outputs": [
    {
     "data": {
      "text/plain": [
       "'arrang'"
      ]
     },
     "execution_count": 32,
     "metadata": {},
     "output_type": "execute_result"
    }
   ],
   "source": [
    "stemming.stem('arrangement')"
   ]
  },
  {
   "cell_type": "code",
   "execution_count": 33,
   "id": "357d4500",
   "metadata": {},
   "outputs": [],
   "source": [
    "## RegExp Stemmer Class\n",
    "## What RegExps do we want to remove\n",
    "from nltk.stem import RegexpStemmer"
   ]
  },
  {
   "cell_type": "code",
   "execution_count": 34,
   "id": "0e8292f1",
   "metadata": {},
   "outputs": [],
   "source": [
    "reg_stemmer = RegexpStemmer('ing$|s$|e$|able$', min=4)"
   ]
  },
  {
   "cell_type": "code",
   "execution_count": 35,
   "id": "99e5eeee",
   "metadata": {},
   "outputs": [
    {
     "data": {
      "text/plain": [
       "'eat'"
      ]
     },
     "execution_count": 35,
     "metadata": {},
     "output_type": "execute_result"
    }
   ],
   "source": [
    "reg_stemmer.stem('eating')"
   ]
  },
  {
   "cell_type": "code",
   "execution_count": 36,
   "id": "fe798b31",
   "metadata": {},
   "outputs": [
    {
     "data": {
      "text/plain": [
       "'eat'"
      ]
     },
     "execution_count": 36,
     "metadata": {},
     "output_type": "execute_result"
    }
   ],
   "source": [
    "## $ = end\n",
    "reg_stemmer.stem('eats')"
   ]
  },
  {
   "cell_type": "code",
   "execution_count": 37,
   "id": "b34eba4c",
   "metadata": {},
   "outputs": [
    {
     "data": {
      "text/plain": [
       "'ingeat'"
      ]
     },
     "execution_count": 37,
     "metadata": {},
     "output_type": "execute_result"
    }
   ],
   "source": [
    "reg_stemmer.stem('ingeating')"
   ]
  },
  {
   "cell_type": "code",
   "execution_count": 38,
   "id": "8d92604d",
   "metadata": {},
   "outputs": [],
   "source": [
    "reg_stemmer = RegexpStemmer('ing|s$|e$|able$', min=4)"
   ]
  },
  {
   "cell_type": "code",
   "execution_count": 39,
   "id": "b02b94bb",
   "metadata": {},
   "outputs": [
    {
     "data": {
      "text/plain": [
       "'eat'"
      ]
     },
     "execution_count": 39,
     "metadata": {},
     "output_type": "execute_result"
    }
   ],
   "source": [
    "reg_stemmer.stem('ingeating')"
   ]
  },
  {
   "cell_type": "code",
   "execution_count": 40,
   "id": "3d1572b5",
   "metadata": {},
   "outputs": [],
   "source": [
    "## Snowball Stemmer\n",
    "## (Better than PorterStemmer, more accurate)\n",
    "from nltk.stem import SnowballStemmer"
   ]
  },
  {
   "cell_type": "code",
   "execution_count": 41,
   "id": "42203b5c",
   "metadata": {},
   "outputs": [],
   "source": [
    "snow_stemmer = SnowballStemmer('english')"
   ]
  },
  {
   "cell_type": "code",
   "execution_count": 42,
   "id": "4e9c457c",
   "metadata": {},
   "outputs": [
    {
     "name": "stdout",
     "output_type": "stream",
     "text": [
      "eating: eat\n",
      "eats: eat\n",
      "eaten: eaten\n",
      "write: write\n",
      "wrote: wrote\n",
      "written: written\n",
      "writing: write\n",
      "writer: writer\n",
      "programming: program\n",
      "programmer: programm\n",
      "programs: program\n",
      "history: histori\n"
     ]
    }
   ],
   "source": [
    "for word in words:\n",
    "    print(f'{word}: {snow_stemmer.stem(word)}')"
   ]
  },
  {
   "cell_type": "code",
   "execution_count": 43,
   "id": "ebfd692e",
   "metadata": {},
   "outputs": [
    {
     "data": {
      "text/plain": [
       "('fairli', 'sportingli')"
      ]
     },
     "execution_count": 43,
     "metadata": {},
     "output_type": "execute_result"
    }
   ],
   "source": [
    "stemming.stem('fairly'), stemming.stem('sportingly')"
   ]
  },
  {
   "cell_type": "code",
   "execution_count": 44,
   "id": "cba890ce",
   "metadata": {},
   "outputs": [
    {
     "data": {
      "text/plain": [
       "('fair', 'sport')"
      ]
     },
     "execution_count": 44,
     "metadata": {},
     "output_type": "execute_result"
    }
   ],
   "source": [
    "snow_stemmer.stem('fairly'), snow_stemmer.stem('sportingly')"
   ]
  },
  {
   "cell_type": "code",
   "execution_count": 46,
   "id": "27055111",
   "metadata": {},
   "outputs": [
    {
     "data": {
      "text/plain": [
       "'goe'"
      ]
     },
     "execution_count": 46,
     "metadata": {},
     "output_type": "execute_result"
    }
   ],
   "source": [
    "stemming.stem('goes')"
   ]
  },
  {
   "cell_type": "code",
   "execution_count": 45,
   "id": "23ad641d",
   "metadata": {},
   "outputs": [
    {
     "data": {
      "text/plain": [
       "'goe'"
      ]
     },
     "execution_count": 45,
     "metadata": {},
     "output_type": "execute_result"
    }
   ],
   "source": [
    "snow_stemmer.stem('goes')"
   ]
  }
 ],
 "metadata": {
  "kernelspec": {
   "display_name": "Python 3",
   "language": "python",
   "name": "python3"
  },
  "language_info": {
   "codemirror_mode": {
    "name": "ipython",
    "version": 3
   },
   "file_extension": ".py",
   "mimetype": "text/x-python",
   "name": "python",
   "nbconvert_exporter": "python",
   "pygments_lexer": "ipython3",
   "version": "3.13.3"
  }
 },
 "nbformat": 4,
 "nbformat_minor": 5
}
