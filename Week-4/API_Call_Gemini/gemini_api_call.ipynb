{
 "cells": [
  {
   "cell_type": "code",
   "execution_count": 3,
   "id": "91cad428",
   "metadata": {},
   "outputs": [],
   "source": [
    "from google import genai\n",
    "import os\n",
    "from dotenv import load_dotenv\n",
    "load_dotenv()\n",
    "API_KEY=os.getenv(\"GEMINI_API_KEY\")"
   ]
  },
  {
   "cell_type": "code",
   "execution_count": null,
   "id": "3b476468",
   "metadata": {},
   "outputs": [],
   "source": []
  },
  {
   "cell_type": "code",
   "execution_count": 4,
   "id": "ec506b9f",
   "metadata": {},
   "outputs": [],
   "source": [
    "client = genai.Client(api_key = API_KEY)"
   ]
  },
  {
   "cell_type": "code",
   "execution_count": 5,
   "id": "c99ec12a",
   "metadata": {},
   "outputs": [
    {
     "name": "stdout",
     "output_type": "stream",
     "text": [
      "Imagine you're trying to teach a dog a new trick, like \"sit.\"\n",
      "\n",
      "In Reinforcement Learning (RL), we have:\n",
      "\n",
      "1.  **The Learner (the \"Agent\"):** That's like the dog. It's the thing trying to learn.\n",
      "2.  **The World (the \"Environment\"):** That's you, the owner, and the room you're in. It's where the agent lives and acts.\n",
      "3.  **Actions:** What the dog can do (bark, sit, lie down, stand).\n",
      "4.  **States:** The current situation (dog is standing up, dog is sitting, you're holding a treat).\n",
      "5.  **Rewards:** The feedback the dog gets from you.\n",
      "    *   If it sits, you give it a treat! (Positive Reward)\n",
      "    *   If it barks or does nothing, no treat. (Zero or Negative Reward)\n",
      "\n",
      "**Here's how it works, simply:**\n",
      "\n",
      "*   The dog (agent) observes its current situation (the \"state\" – like seeing you with a treat).\n",
      "*   It tries something (takes an \"action\" – maybe it sits).\n",
      "*   You (the environment) give it feedback (a \"reward\" – a treat!).\n",
      "*   The dog remembers: \"Aha! When I was in *this state* (standing) and I took *that action* (sitting), I got a *treat*!\"\n",
      "*   If it tried something else and got no treat, it learns that wasn't a good action for that situation.\n",
      "\n",
      "Over many tries (trial and error), the dog learns which actions in which situations (states) lead to the most treats.\n",
      "\n",
      "**The ultimate goal for the agent is to figure out the best strategy (or \"policy\") to get the maximum amount of treats (rewards) over time.**\n",
      "\n",
      "It's powerful because the agent learns **on its own** through experience, without someone explicitly telling it \"do X, then do Y.\" It figures out the best path by seeing what works and what doesn't.\n",
      "\n",
      "**Think of it as:** Learning through consequences.\n"
     ]
    }
   ],
   "source": [
    "response = client.models.generate_content(\n",
    "    model=\"gemini-2.5-flash\", \n",
    "    contents=\"Explain reinforcement learning simply.\"\n",
    ")\n",
    "print(response.text)\n"
   ]
  },
  {
   "cell_type": "code",
   "execution_count": null,
   "id": "44a796db",
   "metadata": {},
   "outputs": [],
   "source": []
  }
 ],
 "metadata": {
  "kernelspec": {
   "display_name": "Python 3",
   "language": "python",
   "name": "python3"
  },
  "language_info": {
   "codemirror_mode": {
    "name": "ipython",
    "version": 3
   },
   "file_extension": ".py",
   "mimetype": "text/x-python",
   "name": "python",
   "nbconvert_exporter": "python",
   "pygments_lexer": "ipython3",
   "version": "3.13.3"
  }
 },
 "nbformat": 4,
 "nbformat_minor": 5
}
