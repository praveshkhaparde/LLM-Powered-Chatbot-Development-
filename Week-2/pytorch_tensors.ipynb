{
  "cells": [
    {
      "cell_type": "code",
      "execution_count": null,
      "id": "d329b24a",
      "metadata": {
        "id": "d329b24a"
      },
      "outputs": [],
      "source": [
        "import torch"
      ]
    },
    {
      "cell_type": "code",
      "execution_count": null,
      "id": "1570f159",
      "metadata": {
        "colab": {
          "base_uri": "https://localhost:8080/"
        },
        "id": "1570f159",
        "outputId": "40a8ecec-85ee-411f-fcc4-b1605aee75fb"
      },
      "outputs": [
        {
          "output_type": "stream",
          "name": "stdout",
          "text": [
            "2.6.0+cu124\n"
          ]
        }
      ],
      "source": [
        "print(torch.__version__)"
      ]
    },
    {
      "cell_type": "code",
      "execution_count": null,
      "id": "63979462",
      "metadata": {
        "colab": {
          "base_uri": "https://localhost:8080/"
        },
        "id": "63979462",
        "outputId": "a6ab166d-d3ab-405c-ecaa-8ca0e0239144"
      },
      "outputs": [
        {
          "output_type": "stream",
          "name": "stdout",
          "text": [
            "GPU is available!\n",
            "Using GPU: Tesla T4\n"
          ]
        }
      ],
      "source": [
        "if torch.cuda.is_available():\n",
        "    print(\"GPU is available!\")\n",
        "    print(f'Using GPU: {torch.cuda.get_device_name(0)}')\n",
        "else:\n",
        "    print(\"GPU not available, using CPU\")"
      ]
    },
    {
      "cell_type": "markdown",
      "id": "fe54814d",
      "metadata": {
        "id": "fe54814d"
      },
      "source": [
        "### Creating a Tensor"
      ]
    },
    {
      "cell_type": "code",
      "execution_count": null,
      "id": "181ddd8b",
      "metadata": {
        "colab": {
          "base_uri": "https://localhost:8080/"
        },
        "id": "181ddd8b",
        "outputId": "2f55b147-8093-463b-d610-e10e9b0b7c46"
      },
      "outputs": [
        {
          "output_type": "execute_result",
          "data": {
            "text/plain": [
              "tensor([[0., 0., 0.],\n",
              "        [0., 0., 0.]])"
            ]
          },
          "metadata": {},
          "execution_count": 4
        }
      ],
      "source": [
        "torch.empty((2, 3))"
      ]
    },
    {
      "cell_type": "code",
      "execution_count": null,
      "id": "b97a7f48",
      "metadata": {
        "id": "b97a7f48"
      },
      "outputs": [],
      "source": [
        "a = torch.zeros(4, 5)"
      ]
    },
    {
      "cell_type": "code",
      "execution_count": null,
      "id": "76a781c8",
      "metadata": {
        "colab": {
          "base_uri": "https://localhost:8080/"
        },
        "id": "76a781c8",
        "outputId": "61a9a3b8-0f32-4668-fe1d-85f3a9ed6efb"
      },
      "outputs": [
        {
          "output_type": "execute_result",
          "data": {
            "text/plain": [
              "torch.Tensor"
            ]
          },
          "metadata": {},
          "execution_count": 6
        }
      ],
      "source": [
        "type(a)"
      ]
    },
    {
      "cell_type": "code",
      "execution_count": null,
      "id": "d5f23f7f",
      "metadata": {
        "colab": {
          "base_uri": "https://localhost:8080/"
        },
        "id": "d5f23f7f",
        "outputId": "da9fa4bd-84f0-4f2a-f9d1-805d480fe448"
      },
      "outputs": [
        {
          "output_type": "execute_result",
          "data": {
            "text/plain": [
              "tensor([[1., 1., 1., 1., 1.],\n",
              "        [1., 1., 1., 1., 1.],\n",
              "        [1., 1., 1., 1., 1.],\n",
              "        [1., 1., 1., 1., 1.]])"
            ]
          },
          "metadata": {},
          "execution_count": 7
        }
      ],
      "source": [
        "torch.ones_like(a)"
      ]
    },
    {
      "cell_type": "code",
      "execution_count": null,
      "id": "d5be5816",
      "metadata": {
        "colab": {
          "base_uri": "https://localhost:8080/"
        },
        "id": "d5be5816",
        "outputId": "16835a3e-7674-4b71-c99b-3206a3333ab5"
      },
      "outputs": [
        {
          "output_type": "execute_result",
          "data": {
            "text/plain": [
              "tensor([0.5911, 0.2816, 0.1525, 0.1234, 0.1048, 0.9440, 0.8068, 0.3916, 0.2965])"
            ]
          },
          "metadata": {},
          "execution_count": 8
        }
      ],
      "source": [
        "torch.rand(9)\n",
        "## Each coordinate is a random value uniformly selected from [0, 1)"
      ]
    },
    {
      "cell_type": "code",
      "execution_count": null,
      "id": "589998e5",
      "metadata": {
        "colab": {
          "base_uri": "https://localhost:8080/"
        },
        "id": "589998e5",
        "outputId": "629a7519-faf1-45a9-d5ce-d4190e4dadb3"
      },
      "outputs": [
        {
          "output_type": "execute_result",
          "data": {
            "text/plain": [
              "tensor([[0.6558, 0.3020, 0.4799, 0.7774, 0.9180],\n",
              "        [0.9310, 0.2604, 0.9534, 0.3804, 0.4104],\n",
              "        [0.9510, 0.5686, 0.1381, 0.2069, 0.5139],\n",
              "        [0.4850, 0.5193, 0.3468, 0.4477, 0.6316]])"
            ]
          },
          "metadata": {},
          "execution_count": 9
        }
      ],
      "source": [
        "torch.manual_seed(9) ## Setting the seed\n",
        "torch.rand_like(a)"
      ]
    },
    {
      "cell_type": "code",
      "execution_count": null,
      "id": "27d6fb40",
      "metadata": {
        "colab": {
          "base_uri": "https://localhost:8080/"
        },
        "id": "27d6fb40",
        "outputId": "6c71863c-a031-4dea-e8cb-fc41b3aae92e"
      },
      "outputs": [
        {
          "output_type": "execute_result",
          "data": {
            "text/plain": [
              "tensor([[2, 3, 4],\n",
              "        [5, 6, 7]])"
            ]
          },
          "metadata": {},
          "execution_count": 10
        }
      ],
      "source": [
        "torch.tensor([[2, 3, 4], [5, 6, 7]])"
      ]
    },
    {
      "cell_type": "code",
      "execution_count": null,
      "id": "0dcf2f5f",
      "metadata": {
        "colab": {
          "base_uri": "https://localhost:8080/"
        },
        "id": "0dcf2f5f",
        "outputId": "55a91c21-cbac-44fc-d749-ed9c88821511"
      },
      "outputs": [
        {
          "output_type": "execute_result",
          "data": {
            "text/plain": [
              "tensor([0.0000, 0.5000, 1.0000, 1.5000, 2.0000, 2.5000, 3.0000, 3.5000, 4.0000,\n",
              "        4.5000, 5.0000, 5.5000, 6.0000, 6.5000, 7.0000, 7.5000, 8.0000, 8.5000,\n",
              "        9.0000, 9.5000])"
            ]
          },
          "metadata": {},
          "execution_count": 11
        }
      ],
      "source": [
        "torch.arange(0, 10, 0.5) ## Jump is last arg"
      ]
    },
    {
      "cell_type": "code",
      "execution_count": null,
      "id": "6eaabefe",
      "metadata": {
        "colab": {
          "base_uri": "https://localhost:8080/"
        },
        "id": "6eaabefe",
        "outputId": "7e24b1a5-b751-40cc-9e69-04397df66946"
      },
      "outputs": [
        {
          "output_type": "execute_result",
          "data": {
            "text/plain": [
              "tensor([ 0.,  5., 10., 15., 20.])"
            ]
          },
          "metadata": {},
          "execution_count": 12
        }
      ],
      "source": [
        "torch.linspace(0, 20, 5) ## Size is last arg"
      ]
    },
    {
      "cell_type": "code",
      "execution_count": null,
      "id": "29e1e5b6",
      "metadata": {
        "colab": {
          "base_uri": "https://localhost:8080/"
        },
        "id": "29e1e5b6",
        "outputId": "4cd4d03c-f9ae-4686-d0e3-0f517341fd66"
      },
      "outputs": [
        {
          "output_type": "execute_result",
          "data": {
            "text/plain": [
              "tensor([[1., 0., 0., 0., 0.],\n",
              "        [0., 1., 0., 0., 0.],\n",
              "        [0., 0., 1., 0., 0.],\n",
              "        [0., 0., 0., 1., 0.],\n",
              "        [0., 0., 0., 0., 1.]])"
            ]
          },
          "metadata": {},
          "execution_count": 13
        }
      ],
      "source": [
        "torch.eye(5) ## Identity"
      ]
    },
    {
      "cell_type": "code",
      "execution_count": null,
      "id": "ae713110",
      "metadata": {
        "colab": {
          "base_uri": "https://localhost:8080/"
        },
        "id": "ae713110",
        "outputId": "6feebfde-1c0c-4cac-958d-09faa4fe6985"
      },
      "outputs": [
        {
          "output_type": "execute_result",
          "data": {
            "text/plain": [
              "tensor([[[2, 2, 2],\n",
              "         [2, 2, 2],\n",
              "         [2, 2, 2],\n",
              "         [2, 2, 2],\n",
              "         [2, 2, 2],\n",
              "         [2, 2, 2],\n",
              "         [2, 2, 2],\n",
              "         [2, 2, 2],\n",
              "         [2, 2, 2]],\n",
              "\n",
              "        [[2, 2, 2],\n",
              "         [2, 2, 2],\n",
              "         [2, 2, 2],\n",
              "         [2, 2, 2],\n",
              "         [2, 2, 2],\n",
              "         [2, 2, 2],\n",
              "         [2, 2, 2],\n",
              "         [2, 2, 2],\n",
              "         [2, 2, 2]],\n",
              "\n",
              "        [[2, 2, 2],\n",
              "         [2, 2, 2],\n",
              "         [2, 2, 2],\n",
              "         [2, 2, 2],\n",
              "         [2, 2, 2],\n",
              "         [2, 2, 2],\n",
              "         [2, 2, 2],\n",
              "         [2, 2, 2],\n",
              "         [2, 2, 2]],\n",
              "\n",
              "        [[2, 2, 2],\n",
              "         [2, 2, 2],\n",
              "         [2, 2, 2],\n",
              "         [2, 2, 2],\n",
              "         [2, 2, 2],\n",
              "         [2, 2, 2],\n",
              "         [2, 2, 2],\n",
              "         [2, 2, 2],\n",
              "         [2, 2, 2]],\n",
              "\n",
              "        [[2, 2, 2],\n",
              "         [2, 2, 2],\n",
              "         [2, 2, 2],\n",
              "         [2, 2, 2],\n",
              "         [2, 2, 2],\n",
              "         [2, 2, 2],\n",
              "         [2, 2, 2],\n",
              "         [2, 2, 2],\n",
              "         [2, 2, 2]],\n",
              "\n",
              "        [[2, 2, 2],\n",
              "         [2, 2, 2],\n",
              "         [2, 2, 2],\n",
              "         [2, 2, 2],\n",
              "         [2, 2, 2],\n",
              "         [2, 2, 2],\n",
              "         [2, 2, 2],\n",
              "         [2, 2, 2],\n",
              "         [2, 2, 2]],\n",
              "\n",
              "        [[2, 2, 2],\n",
              "         [2, 2, 2],\n",
              "         [2, 2, 2],\n",
              "         [2, 2, 2],\n",
              "         [2, 2, 2],\n",
              "         [2, 2, 2],\n",
              "         [2, 2, 2],\n",
              "         [2, 2, 2],\n",
              "         [2, 2, 2]],\n",
              "\n",
              "        [[2, 2, 2],\n",
              "         [2, 2, 2],\n",
              "         [2, 2, 2],\n",
              "         [2, 2, 2],\n",
              "         [2, 2, 2],\n",
              "         [2, 2, 2],\n",
              "         [2, 2, 2],\n",
              "         [2, 2, 2],\n",
              "         [2, 2, 2]],\n",
              "\n",
              "        [[2, 2, 2],\n",
              "         [2, 2, 2],\n",
              "         [2, 2, 2],\n",
              "         [2, 2, 2],\n",
              "         [2, 2, 2],\n",
              "         [2, 2, 2],\n",
              "         [2, 2, 2],\n",
              "         [2, 2, 2],\n",
              "         [2, 2, 2]],\n",
              "\n",
              "        [[2, 2, 2],\n",
              "         [2, 2, 2],\n",
              "         [2, 2, 2],\n",
              "         [2, 2, 2],\n",
              "         [2, 2, 2],\n",
              "         [2, 2, 2],\n",
              "         [2, 2, 2],\n",
              "         [2, 2, 2],\n",
              "         [2, 2, 2]]])"
            ]
          },
          "metadata": {},
          "execution_count": 14
        }
      ],
      "source": [
        "torch.full((10, 9, 3), 2)\n",
        "## Give the dimensions and the value to be filled at ALL coordinates"
      ]
    },
    {
      "cell_type": "markdown",
      "id": "6b5f3112",
      "metadata": {
        "id": "6b5f3112"
      },
      "source": [
        "### Tensor Shapes"
      ]
    },
    {
      "cell_type": "code",
      "execution_count": null,
      "id": "c3cc2df4",
      "metadata": {
        "id": "c3cc2df4"
      },
      "outputs": [],
      "source": [
        "x = torch.tensor([[1, 2, 4], [2, 4, 8]])"
      ]
    },
    {
      "cell_type": "code",
      "execution_count": null,
      "id": "15b4b21c",
      "metadata": {
        "colab": {
          "base_uri": "https://localhost:8080/",
          "height": 158
        },
        "id": "15b4b21c",
        "outputId": "c1d762b2-0865-4d37-bf0f-d5d878c6de1c"
      },
      "outputs": [
        {
          "output_type": "error",
          "ename": "RuntimeError",
          "evalue": "\"check_uniform_bounds\" not implemented for 'Long'",
          "traceback": [
            "\u001b[0;31m---------------------------------------------------------------------------\u001b[0m",
            "\u001b[0;31mRuntimeError\u001b[0m                              Traceback (most recent call last)",
            "\u001b[0;32m<ipython-input-17-11fce6a3784d>\u001b[0m in \u001b[0;36m<cell line: 0>\u001b[0;34m()\u001b[0m\n\u001b[0;32m----> 1\u001b[0;31m \u001b[0mtorch\u001b[0m\u001b[0;34m.\u001b[0m\u001b[0mrand_like\u001b[0m\u001b[0;34m(\u001b[0m\u001b[0mx\u001b[0m\u001b[0;34m)\u001b[0m\u001b[0;34m\u001b[0m\u001b[0;34m\u001b[0m\u001b[0m\n\u001b[0m\u001b[1;32m      2\u001b[0m \u001b[0;31m## Because datatype of x is int, but rand has outputs that are float/long\u001b[0m\u001b[0;34m\u001b[0m\u001b[0;34m\u001b[0m\u001b[0m\n",
            "\u001b[0;31mRuntimeError\u001b[0m: \"check_uniform_bounds\" not implemented for 'Long'"
          ]
        }
      ],
      "source": [
        "torch.rand_like(x)\n",
        "## Because datatype of x is int, but rand has outputs that are float/long"
      ]
    },
    {
      "cell_type": "code",
      "execution_count": null,
      "id": "17e079bb",
      "metadata": {
        "colab": {
          "base_uri": "https://localhost:8080/"
        },
        "id": "17e079bb",
        "outputId": "60abe05c-b545-46ff-b528-90d808f60b95"
      },
      "outputs": [
        {
          "output_type": "execute_result",
          "data": {
            "text/plain": [
              "torch.int64"
            ]
          },
          "metadata": {},
          "execution_count": 18
        }
      ],
      "source": [
        "x.dtype"
      ]
    },
    {
      "cell_type": "code",
      "execution_count": null,
      "id": "9f5fc2f7",
      "metadata": {
        "id": "9f5fc2f7"
      },
      "outputs": [],
      "source": [
        "y = torch.tensor([[1, 2, 4], [2, 4, 8]], dtype=torch.float32)"
      ]
    },
    {
      "cell_type": "code",
      "execution_count": null,
      "id": "fc937fef",
      "metadata": {
        "colab": {
          "base_uri": "https://localhost:8080/"
        },
        "id": "fc937fef",
        "outputId": "1d860468-6f89-4384-c2ba-a6c643752da1"
      },
      "outputs": [
        {
          "output_type": "execute_result",
          "data": {
            "text/plain": [
              "tensor([[0.6947, 0.8215, 0.9111],\n",
              "        [0.7315, 0.4468, 0.0725]])"
            ]
          },
          "metadata": {},
          "execution_count": 20
        }
      ],
      "source": [
        "torch.rand_like(y)"
      ]
    },
    {
      "cell_type": "code",
      "execution_count": null,
      "id": "1fef7203",
      "metadata": {
        "colab": {
          "base_uri": "https://localhost:8080/"
        },
        "id": "1fef7203",
        "outputId": "b04f3ec3-8d83-4e30-8509-54c317d8144c"
      },
      "outputs": [
        {
          "output_type": "execute_result",
          "data": {
            "text/plain": [
              "tensor([[1., 2., 4.],\n",
              "        [2., 4., 8.]])"
            ]
          },
          "metadata": {},
          "execution_count": 21
        }
      ],
      "source": [
        "## Changing dtype of an existing tensor\n",
        "x.to(torch.float32) ## Does not do it inplace"
      ]
    },
    {
      "cell_type": "code",
      "execution_count": null,
      "id": "a34aba58",
      "metadata": {
        "colab": {
          "base_uri": "https://localhost:8080/"
        },
        "id": "a34aba58",
        "outputId": "b3a18fd9-7a67-4db6-f0dd-7a2a1896800a"
      },
      "outputs": [
        {
          "output_type": "execute_result",
          "data": {
            "text/plain": [
              "tensor([[1, 2, 4],\n",
              "        [2, 4, 8]])"
            ]
          },
          "metadata": {},
          "execution_count": 22
        }
      ],
      "source": [
        "x"
      ]
    },
    {
      "cell_type": "code",
      "execution_count": null,
      "id": "2eb63b40",
      "metadata": {
        "colab": {
          "base_uri": "https://localhost:8080/"
        },
        "id": "2eb63b40",
        "outputId": "d091f457-bb12-4b58-a5eb-9e3b2514245b"
      },
      "outputs": [
        {
          "output_type": "execute_result",
          "data": {
            "text/plain": [
              "tensor([[0.3567, 0.7719, 0.0121],\n",
              "        [0.1186, 0.8091, 0.9718]], dtype=torch.float64)"
            ]
          },
          "metadata": {},
          "execution_count": 23
        }
      ],
      "source": [
        "torch.rand_like(x, dtype=torch.float64)"
      ]
    },
    {
      "cell_type": "markdown",
      "id": "03d03b0f",
      "metadata": {
        "id": "03d03b0f"
      },
      "source": [
        "### Operations on Tensors"
      ]
    },
    {
      "cell_type": "code",
      "execution_count": null,
      "id": "ae54542d",
      "metadata": {
        "id": "ae54542d"
      },
      "outputs": [],
      "source": [
        "x = torch.rand([2,2])"
      ]
    },
    {
      "cell_type": "code",
      "execution_count": null,
      "id": "7cf4b5e0",
      "metadata": {
        "colab": {
          "base_uri": "https://localhost:8080/"
        },
        "id": "7cf4b5e0",
        "outputId": "d5831d8d-a25d-4b5e-f677-2322467bbc74"
      },
      "outputs": [
        {
          "output_type": "execute_result",
          "data": {
            "text/plain": [
              "tensor([[0.6747, 0.2367],\n",
              "        [0.8801, 0.0272]])"
            ]
          },
          "metadata": {},
          "execution_count": 25
        }
      ],
      "source": [
        "x ** 2"
      ]
    },
    {
      "cell_type": "code",
      "execution_count": null,
      "id": "6c456678",
      "metadata": {
        "colab": {
          "base_uri": "https://localhost:8080/"
        },
        "id": "6c456678",
        "outputId": "6f70cda6-247e-4e1d-d516-d6b4274b5a26"
      },
      "outputs": [
        {
          "output_type": "execute_result",
          "data": {
            "text/plain": [
              "tensor([[-0.1786, -0.5134],\n",
              "        [-0.0618, -0.8349]])"
            ]
          },
          "metadata": {},
          "execution_count": 26
        }
      ],
      "source": [
        "## Addition/Subtraction/Multiplication etc can be perfomed element-wise\n",
        "## NumPy like broadcasting\n",
        "x - 1"
      ]
    },
    {
      "cell_type": "code",
      "execution_count": null,
      "id": "fbadf717",
      "metadata": {
        "colab": {
          "base_uri": "https://localhost:8080/"
        },
        "id": "fbadf717",
        "outputId": "52a1c585-183d-4869-b24e-11e156614cdf"
      },
      "outputs": [
        {
          "output_type": "execute_result",
          "data": {
            "text/plain": [
              "tensor([[0.1786, 0.5134],\n",
              "        [0.0618, 0.8349]])"
            ]
          },
          "metadata": {},
          "execution_count": 27
        }
      ],
      "source": [
        "torch.abs(x - 1)"
      ]
    },
    {
      "cell_type": "code",
      "execution_count": null,
      "id": "9309ad0c",
      "metadata": {
        "colab": {
          "base_uri": "https://localhost:8080/",
          "height": 141
        },
        "id": "9309ad0c",
        "outputId": "bb1b4e76-c9b4-46f0-a852-f99a4c62e34d"
      },
      "outputs": [
        {
          "output_type": "error",
          "ename": "TypeError",
          "evalue": "round(): argument 'input' (position 1) must be Tensor, not list",
          "traceback": [
            "\u001b[0;31m---------------------------------------------------------------------------\u001b[0m",
            "\u001b[0;31mTypeError\u001b[0m                                 Traceback (most recent call last)",
            "\u001b[0;32m<ipython-input-28-d6becbf34f0e>\u001b[0m in \u001b[0;36m<cell line: 0>\u001b[0;34m()\u001b[0m\n\u001b[0;32m----> 1\u001b[0;31m \u001b[0mtorch\u001b[0m\u001b[0;34m.\u001b[0m\u001b[0mround\u001b[0m\u001b[0;34m(\u001b[0m\u001b[0;34m[\u001b[0m\u001b[0;34m[\u001b[0m\u001b[0;36m1.2\u001b[0m\u001b[0;34m,\u001b[0m \u001b[0;36m2\u001b[0m\u001b[0;34m]\u001b[0m\u001b[0;34m,\u001b[0m \u001b[0;34m[\u001b[0m\u001b[0;36m3.3\u001b[0m\u001b[0;34m,\u001b[0m \u001b[0;36m4\u001b[0m\u001b[0;34m]\u001b[0m\u001b[0;34m]\u001b[0m\u001b[0;34m)\u001b[0m \u001b[0;31m## Needs torch.tensor input\u001b[0m\u001b[0;34m\u001b[0m\u001b[0;34m\u001b[0m\u001b[0m\n\u001b[0m",
            "\u001b[0;31mTypeError\u001b[0m: round(): argument 'input' (position 1) must be Tensor, not list"
          ]
        }
      ],
      "source": [
        "torch.round([[1.2, 2], [3.3, 4]]) ## Needs torch.tensor input"
      ]
    },
    {
      "cell_type": "code",
      "execution_count": null,
      "id": "dac8b658",
      "metadata": {
        "colab": {
          "base_uri": "https://localhost:8080/"
        },
        "id": "dac8b658",
        "outputId": "d11fb9a1-700c-4f12-d8ae-dd66e1fa8ed2"
      },
      "outputs": [
        {
          "output_type": "execute_result",
          "data": {
            "text/plain": [
              "tensor([[1., 2.],\n",
              "        [3., 4.]])"
            ]
          },
          "metadata": {},
          "execution_count": 29
        }
      ],
      "source": [
        "torch.round(torch.tensor([[1.2, 2], [3.3, 4]]))\n",
        "## Similarly ceil, floor"
      ]
    },
    {
      "cell_type": "code",
      "execution_count": null,
      "id": "1f763867",
      "metadata": {
        "colab": {
          "base_uri": "https://localhost:8080/"
        },
        "id": "1f763867",
        "outputId": "c1e61466-9a15-4780-d5e3-d7075a50126b"
      },
      "outputs": [
        {
          "output_type": "execute_result",
          "data": {
            "text/plain": [
              "tensor([[0.8214, 0.5000],\n",
              "        [0.9382, 0.5000]])"
            ]
          },
          "metadata": {},
          "execution_count": 30
        }
      ],
      "source": [
        "## torch.clamp (Bounds values by an upper limit and a lower limit, and clips them)\n",
        "torch.clamp(x, max = 1, min =0.5)"
      ]
    },
    {
      "cell_type": "markdown",
      "id": "a754e6a5",
      "metadata": {
        "id": "a754e6a5"
      },
      "source": [
        "### Reduction Operations"
      ]
    },
    {
      "cell_type": "code",
      "execution_count": null,
      "id": "bb23ae5c",
      "metadata": {
        "colab": {
          "base_uri": "https://localhost:8080/"
        },
        "id": "bb23ae5c",
        "outputId": "a2cb8096-1aee-41bf-9d88-2b02f3bbe378"
      },
      "outputs": [
        {
          "output_type": "execute_result",
          "data": {
            "text/plain": [
              "tensor([[7., 5.],\n",
              "        [4., 3.]])"
            ]
          },
          "metadata": {},
          "execution_count": 31
        }
      ],
      "source": [
        "e = torch.randint_like(x, low = 0, high = 10)\n",
        "e"
      ]
    },
    {
      "cell_type": "code",
      "execution_count": null,
      "id": "66459952",
      "metadata": {
        "colab": {
          "base_uri": "https://localhost:8080/"
        },
        "id": "66459952",
        "outputId": "09138eb3-3d3e-4048-8ec9-1996d11d3be3"
      },
      "outputs": [
        {
          "output_type": "execute_result",
          "data": {
            "text/plain": [
              "tensor(19.)"
            ]
          },
          "metadata": {},
          "execution_count": 32
        }
      ],
      "source": [
        "# sum\n",
        "torch.sum(e)\n",
        "\n",
        "## similarly .mean(), .median(), .max(), .min(), .prod(), .std(), .var(), .argmax()"
      ]
    },
    {
      "cell_type": "code",
      "execution_count": null,
      "id": "8dcece81",
      "metadata": {
        "colab": {
          "base_uri": "https://localhost:8080/"
        },
        "id": "8dcece81",
        "outputId": "ffac4368-0092-4b08-b95e-3b5fc2d3d958"
      },
      "outputs": [
        {
          "output_type": "execute_result",
          "data": {
            "text/plain": [
              "tensor([12.,  7.])"
            ]
          },
          "metadata": {},
          "execution_count": 33
        }
      ],
      "source": [
        "torch.sum(e, dim = 1) ## Over rows, vary the index of dimension dim and sum"
      ]
    },
    {
      "cell_type": "code",
      "execution_count": null,
      "id": "c2e9ba3b",
      "metadata": {
        "colab": {
          "base_uri": "https://localhost:8080/"
        },
        "id": "c2e9ba3b",
        "outputId": "016da76d-a1f6-4206-c00f-455e3ec0d64b"
      },
      "outputs": [
        {
          "output_type": "execute_result",
          "data": {
            "text/plain": [
              "tensor(3)"
            ]
          },
          "metadata": {},
          "execution_count": 34
        }
      ],
      "source": [
        "torch.argmin(e)"
      ]
    },
    {
      "cell_type": "code",
      "execution_count": null,
      "id": "f819cbf7",
      "metadata": {
        "colab": {
          "base_uri": "https://localhost:8080/"
        },
        "id": "f819cbf7",
        "outputId": "f9be6c1a-8c8d-4160-c674-1fa7303f37ef"
      },
      "outputs": [
        {
          "output_type": "execute_result",
          "data": {
            "text/plain": [
              "tensor([[1.7946, 3.5891, 7.1782],\n",
              "        [1.2683, 2.5366, 5.0731]])"
            ]
          },
          "metadata": {},
          "execution_count": 35
        }
      ],
      "source": [
        "torch.matmul(x, y)"
      ]
    },
    {
      "cell_type": "code",
      "execution_count": null,
      "id": "7ea77fbc",
      "metadata": {
        "colab": {
          "base_uri": "https://localhost:8080/"
        },
        "id": "7ea77fbc",
        "outputId": "e285986e-6721-4f54-f85c-d72e385cdc0e"
      },
      "outputs": [
        {
          "output_type": "execute_result",
          "data": {
            "text/plain": [
              "tensor([[1.7946, 3.5891, 7.1782],\n",
              "        [1.2683, 2.5366, 5.0731]])"
            ]
          },
          "metadata": {},
          "execution_count": 36
        }
      ],
      "source": [
        "x @ y"
      ]
    },
    {
      "cell_type": "code",
      "execution_count": null,
      "id": "5e4a795d",
      "metadata": {
        "id": "5e4a795d"
      },
      "outputs": [],
      "source": [
        "a = torch.tensor([1, 2, 3])\n",
        "b = torch.tensor([2, 3, -2])"
      ]
    },
    {
      "cell_type": "code",
      "execution_count": null,
      "id": "00e83dba",
      "metadata": {
        "colab": {
          "base_uri": "https://localhost:8080/"
        },
        "id": "00e83dba",
        "outputId": "803ed364-83b9-4b3c-e050-74039158c8ed"
      },
      "outputs": [
        {
          "output_type": "execute_result",
          "data": {
            "text/plain": [
              "tensor(2)"
            ]
          },
          "metadata": {},
          "execution_count": 38
        }
      ],
      "source": [
        "torch.dot(a, b)"
      ]
    },
    {
      "cell_type": "code",
      "execution_count": null,
      "id": "6f7b114b",
      "metadata": {
        "colab": {
          "base_uri": "https://localhost:8080/"
        },
        "id": "6f7b114b",
        "outputId": "7f1970e6-44f7-4ad4-d2e1-81b7add5bfd1"
      },
      "outputs": [
        {
          "output_type": "execute_result",
          "data": {
            "text/plain": [
              "tensor(2)"
            ]
          },
          "metadata": {},
          "execution_count": 39
        }
      ],
      "source": [
        "a @ b"
      ]
    },
    {
      "cell_type": "code",
      "execution_count": null,
      "id": "affe09f7",
      "metadata": {
        "colab": {
          "base_uri": "https://localhost:8080/"
        },
        "id": "affe09f7",
        "outputId": "0f983a75-9d07-40b8-8591-90fe7fc18630"
      },
      "outputs": [
        {
          "output_type": "execute_result",
          "data": {
            "text/plain": [
              "tensor([[0.8214, 0.9382],\n",
              "        [0.4866, 0.1651]])"
            ]
          },
          "metadata": {},
          "execution_count": 40
        }
      ],
      "source": [
        "x.T"
      ]
    },
    {
      "cell_type": "code",
      "execution_count": null,
      "id": "a26f1e77",
      "metadata": {
        "colab": {
          "base_uri": "https://localhost:8080/"
        },
        "id": "a26f1e77",
        "outputId": "e3b3857d-973f-4584-9329-5b3bf6fc6615"
      },
      "outputs": [
        {
          "output_type": "execute_result",
          "data": {
            "text/plain": [
              "tensor([[0.8214, 0.9382],\n",
              "        [0.4866, 0.1651]])"
            ]
          },
          "metadata": {},
          "execution_count": 41
        }
      ],
      "source": [
        "torch.transpose(x, 0, 1) ## Arguments are swapping dimensions"
      ]
    },
    {
      "cell_type": "code",
      "execution_count": null,
      "id": "42f85fea",
      "metadata": {
        "colab": {
          "base_uri": "https://localhost:8080/"
        },
        "id": "42f85fea",
        "outputId": "12c9693a-aee3-4ee1-aca4-8cc0634d20c3"
      },
      "outputs": [
        {
          "output_type": "execute_result",
          "data": {
            "text/plain": [
              "tensor(-0.3209)"
            ]
          },
          "metadata": {},
          "execution_count": 42
        }
      ],
      "source": [
        "torch.det(x)"
      ]
    },
    {
      "cell_type": "code",
      "execution_count": null,
      "id": "cc52f729",
      "metadata": {
        "colab": {
          "base_uri": "https://localhost:8080/"
        },
        "id": "cc52f729",
        "outputId": "34ff21bc-13ff-43a3-95bb-8dc6c48b14e4"
      },
      "outputs": [
        {
          "output_type": "execute_result",
          "data": {
            "text/plain": [
              "tensor([[-0.5144,  1.5163],\n",
              "        [ 2.9236, -2.5598]])"
            ]
          },
          "metadata": {},
          "execution_count": 43
        }
      ],
      "source": [
        "torch.inverse(x)"
      ]
    },
    {
      "cell_type": "code",
      "execution_count": null,
      "id": "e856e7f2",
      "metadata": {
        "id": "e856e7f2"
      },
      "outputs": [],
      "source": [
        "x_t = x.T"
      ]
    },
    {
      "cell_type": "code",
      "execution_count": null,
      "id": "4da97dee",
      "metadata": {
        "colab": {
          "base_uri": "https://localhost:8080/"
        },
        "id": "4da97dee",
        "outputId": "286ce5eb-aa88-4b76-8eb9-e8b83632e332"
      },
      "outputs": [
        {
          "output_type": "execute_result",
          "data": {
            "text/plain": [
              "tensor([[False, False],\n",
              "        [ True, False]])"
            ]
          },
          "metadata": {},
          "execution_count": 45
        }
      ],
      "source": [
        "x > x_t"
      ]
    },
    {
      "cell_type": "markdown",
      "id": "5e2141cd",
      "metadata": {
        "id": "5e2141cd"
      },
      "source": [
        "### Special Functions"
      ]
    },
    {
      "cell_type": "code",
      "execution_count": null,
      "id": "e29e3b75",
      "metadata": {
        "id": "e29e3b75"
      },
      "outputs": [],
      "source": [
        "k = torch.randint(size = (5, 3), low = -5, high = 5)"
      ]
    },
    {
      "cell_type": "code",
      "execution_count": null,
      "id": "14d48f94",
      "metadata": {
        "colab": {
          "base_uri": "https://localhost:8080/"
        },
        "id": "14d48f94",
        "outputId": "0d885ced-ab43-44d5-e19e-e22550861345"
      },
      "outputs": [
        {
          "output_type": "execute_result",
          "data": {
            "text/plain": [
              "tensor([[0.6931, 0.0000,    nan],\n",
              "        [0.6931,    nan,    nan],\n",
              "        [   nan,   -inf,    nan],\n",
              "        [0.6931,   -inf, 0.6931],\n",
              "        [   nan, 0.0000,    nan]])"
            ]
          },
          "metadata": {},
          "execution_count": 47
        }
      ],
      "source": [
        "torch.log(k)"
      ]
    },
    {
      "cell_type": "code",
      "execution_count": null,
      "id": "8de71f56",
      "metadata": {
        "colab": {
          "base_uri": "https://localhost:8080/"
        },
        "id": "8de71f56",
        "outputId": "a40ad8d4-4774-4220-f191-e6b25568d823"
      },
      "outputs": [
        {
          "output_type": "execute_result",
          "data": {
            "text/plain": [
              "tensor([[7.3891e+00, 2.7183e+00, 4.9787e-02],\n",
              "        [7.3891e+00, 1.8316e-02, 6.7379e-03],\n",
              "        [1.8316e-02, 1.0000e+00, 4.9787e-02],\n",
              "        [7.3891e+00, 1.0000e+00, 7.3891e+00],\n",
              "        [6.7379e-03, 2.7183e+00, 4.9787e-02]])"
            ]
          },
          "metadata": {},
          "execution_count": 48
        }
      ],
      "source": [
        "torch.exp(k)"
      ]
    },
    {
      "cell_type": "code",
      "execution_count": null,
      "id": "6f20f6e5",
      "metadata": {
        "colab": {
          "base_uri": "https://localhost:8080/"
        },
        "id": "6f20f6e5",
        "outputId": "d80465db-27e5-4959-fb7e-3a02801f06d2"
      },
      "outputs": [
        {
          "output_type": "execute_result",
          "data": {
            "text/plain": [
              "tensor([[1.4142, 1.0000,    nan],\n",
              "        [1.4142,    nan,    nan],\n",
              "        [   nan, 0.0000,    nan],\n",
              "        [1.4142, 0.0000, 1.4142],\n",
              "        [   nan, 1.0000,    nan]])"
            ]
          },
          "metadata": {},
          "execution_count": 49
        }
      ],
      "source": [
        "torch.sqrt(k)"
      ]
    },
    {
      "cell_type": "code",
      "execution_count": null,
      "id": "69c59d78",
      "metadata": {
        "colab": {
          "base_uri": "https://localhost:8080/"
        },
        "id": "69c59d78",
        "outputId": "ace4f712-35bd-487d-92be-b8d21aa5aba8"
      },
      "outputs": [
        {
          "output_type": "execute_result",
          "data": {
            "text/plain": [
              "tensor([[0.8808, 0.7311, 0.0474],\n",
              "        [0.8808, 0.0180, 0.0067],\n",
              "        [0.0180, 0.5000, 0.0474],\n",
              "        [0.8808, 0.5000, 0.8808],\n",
              "        [0.0067, 0.7311, 0.0474]])"
            ]
          },
          "metadata": {},
          "execution_count": 50
        }
      ],
      "source": [
        "torch.sigmoid(k)"
      ]
    },
    {
      "cell_type": "code",
      "execution_count": null,
      "id": "fb317fc4",
      "metadata": {
        "colab": {
          "base_uri": "https://localhost:8080/"
        },
        "id": "fb317fc4",
        "outputId": "097c540c-ba70-4cf2-c383-cdcb46f5c2e9"
      },
      "outputs": [
        {
          "output_type": "execute_result",
          "data": {
            "text/plain": [
              "tensor([[3.3296e-01, 3.6463e-01, 6.5985e-03],\n",
              "        [3.3296e-01, 2.4569e-03, 8.9302e-04],\n",
              "        [8.2532e-04, 1.3414e-01, 6.5985e-03],\n",
              "        [3.3296e-01, 1.3414e-01, 9.7931e-01],\n",
              "        [3.0362e-04, 3.6463e-01, 6.5985e-03]], dtype=torch.float64)"
            ]
          },
          "metadata": {},
          "execution_count": 51
        }
      ],
      "source": [
        "torch.softmax(k.to(float), dim = 0)"
      ]
    },
    {
      "cell_type": "code",
      "execution_count": null,
      "id": "5dd66324",
      "metadata": {
        "colab": {
          "base_uri": "https://localhost:8080/"
        },
        "id": "5dd66324",
        "outputId": "b73b47a8-0353-4659-9d80-5de26a0dd721"
      },
      "outputs": [
        {
          "output_type": "execute_result",
          "data": {
            "text/plain": [
              "tensor([[2, 1, 0],\n",
              "        [2, 0, 0],\n",
              "        [0, 0, 0],\n",
              "        [2, 0, 2],\n",
              "        [0, 1, 0]])"
            ]
          },
          "metadata": {},
          "execution_count": 52
        }
      ],
      "source": [
        "torch.relu(k)"
      ]
    },
    {
      "cell_type": "markdown",
      "id": "cb168f8c",
      "metadata": {
        "id": "cb168f8c"
      },
      "source": [
        "### Inplace Operations"
      ]
    },
    {
      "cell_type": "code",
      "execution_count": null,
      "id": "b6df64c0",
      "metadata": {
        "colab": {
          "base_uri": "https://localhost:8080/"
        },
        "id": "b6df64c0",
        "outputId": "0a7a22f6-a16d-4f2d-e785-2000828560e5"
      },
      "outputs": [
        {
          "output_type": "stream",
          "name": "stdout",
          "text": [
            "tensor([[0.6235, 0.3730, 0.8572],\n",
            "        [0.5366, 0.0363, 0.4987]])\n",
            "tensor([[0.4254, 0.2376, 0.9284],\n",
            "        [0.5906, 0.3453, 0.0070]])\n"
          ]
        }
      ],
      "source": [
        "m = torch.rand(2, 3)\n",
        "n = torch.rand(2,3)\n",
        "\n",
        "print(m)\n",
        "print(n)"
      ]
    },
    {
      "cell_type": "code",
      "execution_count": null,
      "id": "7ded9703",
      "metadata": {
        "colab": {
          "base_uri": "https://localhost:8080/"
        },
        "id": "7ded9703",
        "outputId": "4a157bc1-597a-426e-959b-7c7cf0326a06"
      },
      "outputs": [
        {
          "output_type": "execute_result",
          "data": {
            "text/plain": [
              "tensor([[1.0489, 0.6106, 1.7856],\n",
              "        [1.1272, 0.3816, 0.5057]])"
            ]
          },
          "metadata": {},
          "execution_count": 54
        }
      ],
      "source": [
        "m.add_(n) ## In-place version of add, saves result in m"
      ]
    },
    {
      "cell_type": "code",
      "execution_count": null,
      "id": "7c755783",
      "metadata": {
        "id": "7c755783"
      },
      "outputs": [],
      "source": [
        "m -= 1"
      ]
    },
    {
      "cell_type": "code",
      "execution_count": null,
      "id": "40e526dc",
      "metadata": {
        "colab": {
          "base_uri": "https://localhost:8080/"
        },
        "id": "40e526dc",
        "outputId": "e12cffd1-7935-4b1b-e99a-0a86efe066bc"
      },
      "outputs": [
        {
          "output_type": "execute_result",
          "data": {
            "text/plain": [
              "tensor([[0.0489, 0.0000, 0.7856],\n",
              "        [0.1272, 0.0000, 0.0000]])"
            ]
          },
          "metadata": {},
          "execution_count": 56
        }
      ],
      "source": [
        "m.relu_()"
      ]
    },
    {
      "cell_type": "markdown",
      "id": "d357a1ca",
      "metadata": {
        "id": "d357a1ca"
      },
      "source": [
        "### Copying a Tensor"
      ]
    },
    {
      "cell_type": "code",
      "execution_count": null,
      "id": "b820f5b9",
      "metadata": {
        "id": "b820f5b9"
      },
      "outputs": [],
      "source": [
        "a = torch.rand(1, 2, 3)"
      ]
    },
    {
      "cell_type": "code",
      "execution_count": null,
      "id": "f04b2101",
      "metadata": {
        "colab": {
          "base_uri": "https://localhost:8080/"
        },
        "id": "f04b2101",
        "outputId": "29271034-337d-4705-d2b6-644cd1c9989e"
      },
      "outputs": [
        {
          "output_type": "execute_result",
          "data": {
            "text/plain": [
              "tensor([[[0.9552, 0.1192, 0.5466],\n",
              "         [0.8069, 0.0749, 0.6649]]])"
            ]
          },
          "metadata": {},
          "execution_count": 58
        }
      ],
      "source": [
        "a"
      ]
    },
    {
      "cell_type": "code",
      "execution_count": null,
      "id": "e8053d6d",
      "metadata": {
        "id": "e8053d6d"
      },
      "outputs": [],
      "source": [
        "b = a ## BY REFERENCE!!!"
      ]
    },
    {
      "cell_type": "code",
      "execution_count": null,
      "id": "5a666e3a",
      "metadata": {
        "id": "5a666e3a"
      },
      "outputs": [],
      "source": [
        "b[0][1] = 1"
      ]
    },
    {
      "cell_type": "code",
      "execution_count": null,
      "id": "439c9255",
      "metadata": {
        "colab": {
          "base_uri": "https://localhost:8080/"
        },
        "id": "439c9255",
        "outputId": "a0e2249a-b290-4c3d-ca4d-3b3b28d93844"
      },
      "outputs": [
        {
          "output_type": "execute_result",
          "data": {
            "text/plain": [
              "tensor([[[0.9552, 0.1192, 0.5466],\n",
              "         [1.0000, 1.0000, 1.0000]]])"
            ]
          },
          "metadata": {},
          "execution_count": 61
        }
      ],
      "source": [
        "a"
      ]
    },
    {
      "cell_type": "code",
      "execution_count": null,
      "id": "54957ef1",
      "metadata": {
        "colab": {
          "base_uri": "https://localhost:8080/"
        },
        "id": "54957ef1",
        "outputId": "f57ec558-a73b-4aec-9283-209ca7f40368"
      },
      "outputs": [
        {
          "output_type": "execute_result",
          "data": {
            "text/plain": [
              "138433146565840"
            ]
          },
          "metadata": {},
          "execution_count": 62
        }
      ],
      "source": [
        "id(a) ## Memory Location of a"
      ]
    },
    {
      "cell_type": "code",
      "execution_count": null,
      "id": "99e85148",
      "metadata": {
        "colab": {
          "base_uri": "https://localhost:8080/"
        },
        "id": "99e85148",
        "outputId": "4a42b8a2-6d0f-4255-a3eb-d6292adb1122"
      },
      "outputs": [
        {
          "output_type": "execute_result",
          "data": {
            "text/plain": [
              "138433146565840"
            ]
          },
          "metadata": {},
          "execution_count": 63
        }
      ],
      "source": [
        "id(b)"
      ]
    },
    {
      "cell_type": "code",
      "execution_count": null,
      "id": "caa06533",
      "metadata": {
        "id": "caa06533"
      },
      "outputs": [],
      "source": [
        "b = a.clone() ## Function to copy"
      ]
    },
    {
      "cell_type": "code",
      "execution_count": null,
      "id": "3de5b136",
      "metadata": {
        "colab": {
          "base_uri": "https://localhost:8080/"
        },
        "id": "3de5b136",
        "outputId": "b1e2dbee-8d65-480a-9d1d-8f09710cbd74"
      },
      "outputs": [
        {
          "output_type": "execute_result",
          "data": {
            "text/plain": [
              "138433146565840"
            ]
          },
          "metadata": {},
          "execution_count": 65
        }
      ],
      "source": [
        "id(a)"
      ]
    },
    {
      "cell_type": "code",
      "execution_count": null,
      "id": "6c89bb24",
      "metadata": {
        "colab": {
          "base_uri": "https://localhost:8080/"
        },
        "id": "6c89bb24",
        "outputId": "626b4e96-99bd-4ebf-e664-f6e92ccf1907"
      },
      "outputs": [
        {
          "output_type": "execute_result",
          "data": {
            "text/plain": [
              "138433146561808"
            ]
          },
          "metadata": {},
          "execution_count": 66
        }
      ],
      "source": [
        "id(b)"
      ]
    },
    {
      "cell_type": "code",
      "execution_count": null,
      "id": "ccec816f",
      "metadata": {
        "id": "ccec816f"
      },
      "outputs": [],
      "source": [
        "a[0][0][0] = 10"
      ]
    },
    {
      "cell_type": "code",
      "execution_count": null,
      "id": "2ae20a24",
      "metadata": {
        "colab": {
          "base_uri": "https://localhost:8080/"
        },
        "id": "2ae20a24",
        "outputId": "95a3f37a-7121-42ed-88a5-6859a7743a1f"
      },
      "outputs": [
        {
          "output_type": "execute_result",
          "data": {
            "text/plain": [
              "tensor([[[0.9552, 0.1192, 0.5466],\n",
              "         [1.0000, 1.0000, 1.0000]]])"
            ]
          },
          "metadata": {},
          "execution_count": 68
        }
      ],
      "source": [
        "b"
      ]
    },
    {
      "cell_type": "markdown",
      "id": "932c52cf",
      "metadata": {
        "id": "932c52cf"
      },
      "source": [
        "### Tensor Operations on GPU"
      ]
    },
    {
      "cell_type": "code",
      "execution_count": null,
      "id": "6b0c960e",
      "metadata": {
        "id": "6b0c960e"
      },
      "outputs": [],
      "source": [
        "device = torch.device('cuda')"
      ]
    },
    {
      "cell_type": "code",
      "source": [
        "device"
      ],
      "metadata": {
        "colab": {
          "base_uri": "https://localhost:8080/"
        },
        "id": "BmOg2Z6Vku6Z",
        "outputId": "08cebb66-49a9-43a2-c5b8-d427e157bea1"
      },
      "id": "BmOg2Z6Vku6Z",
      "execution_count": null,
      "outputs": [
        {
          "output_type": "execute_result",
          "data": {
            "text/plain": [
              "device(type='cuda')"
            ]
          },
          "metadata": {},
          "execution_count": 72
        }
      ]
    },
    {
      "cell_type": "code",
      "source": [
        "## creating a new tensor on GPU\n",
        "torch.rand((3, 4), device = device)"
      ],
      "metadata": {
        "colab": {
          "base_uri": "https://localhost:8080/"
        },
        "id": "Rxajaapnkl2f",
        "outputId": "cceca654-3706-4db5-def2-f1193efb22a1"
      },
      "id": "Rxajaapnkl2f",
      "execution_count": null,
      "outputs": [
        {
          "output_type": "execute_result",
          "data": {
            "text/plain": [
              "tensor([[0.8420, 0.6347, 0.2247, 0.8517],\n",
              "        [0.9473, 0.5769, 0.6793, 0.0821],\n",
              "        [0.1950, 0.6674, 0.2915, 0.7639]], device='cuda:0')"
            ]
          },
          "metadata": {},
          "execution_count": 71
        }
      ]
    },
    {
      "cell_type": "code",
      "source": [
        "a"
      ],
      "metadata": {
        "colab": {
          "base_uri": "https://localhost:8080/"
        },
        "id": "A0s5HsV8koa-",
        "outputId": "27e74dba-922e-4f3f-8a0b-e8d3e7930dcf"
      },
      "id": "A0s5HsV8koa-",
      "execution_count": null,
      "outputs": [
        {
          "output_type": "execute_result",
          "data": {
            "text/plain": [
              "tensor([[[10.0000,  0.1192,  0.5466],\n",
              "         [ 1.0000,  1.0000,  1.0000]]])"
            ]
          },
          "metadata": {},
          "execution_count": 73
        }
      ]
    },
    {
      "cell_type": "code",
      "source": [
        "## Moving a tensor to GPU\n",
        "b = a.to(device)"
      ],
      "metadata": {
        "id": "I7NA9FBskx92"
      },
      "id": "I7NA9FBskx92",
      "execution_count": null,
      "outputs": []
    },
    {
      "cell_type": "code",
      "source": [
        "b + 5"
      ],
      "metadata": {
        "colab": {
          "base_uri": "https://localhost:8080/"
        },
        "id": "QnX0RSdlk6SG",
        "outputId": "887bc54f-bfe2-4353-bca6-fe86f68f17ce"
      },
      "id": "QnX0RSdlk6SG",
      "execution_count": null,
      "outputs": [
        {
          "output_type": "execute_result",
          "data": {
            "text/plain": [
              "tensor([[[15.0000,  5.1192,  5.5466],\n",
              "         [ 6.0000,  6.0000,  6.0000]]], device='cuda:0')"
            ]
          },
          "metadata": {},
          "execution_count": 76
        }
      ]
    },
    {
      "cell_type": "code",
      "source": [
        "import time\n",
        "\n",
        "size = 10000\n",
        "\n",
        "matrix_cpu1 = torch.randn(size, size)\n",
        "matrix_cpu2 = torch.randn(size, size)\n",
        "\n",
        "start_time = time.time()\n",
        "result_cpu = matrix_cpu1 @ matrix_cpu2\n",
        "cpu_time = time.time() - start_time\n",
        "\n",
        "print(f'Time on CPU: {cpu_time:.4f} sec')\n",
        "\n",
        "\n",
        "matrix_gpu1 = matrix_cpu1.to('cuda')\n",
        "matrix_gpu2 = matrix_cpu2.to('cuda')\n",
        "\n",
        "start_time = time.time()\n",
        "result_gpu = matrix_gpu1 @ matrix_gpu2\n",
        "torch.cuda.synchronize() ## Ensuring all GPU operations are complete\n",
        "gpu_time = time.time() - start_time\n",
        "\n",
        "print(f'Time on GPU: {gpu_time:.4f} sec')\n",
        "print(f'Speedup = {cpu_time/gpu_time}')"
      ],
      "metadata": {
        "colab": {
          "base_uri": "https://localhost:8080/"
        },
        "id": "oZlYzSoMk-9U",
        "outputId": "aeabef00-723e-4c11-a7ac-42e1527e7a7b"
      },
      "id": "oZlYzSoMk-9U",
      "execution_count": null,
      "outputs": [
        {
          "output_type": "stream",
          "name": "stdout",
          "text": [
            "Time on CPU: 16.1132 sec\n",
            "Time on GPU: 0.5157 sec\n",
            "Speedup = 31.2432108079721\n"
          ]
        }
      ]
    },
    {
      "cell_type": "markdown",
      "source": [
        "### Reshaping Tensors"
      ],
      "metadata": {
        "id": "gDKl2I-omMJA"
      },
      "id": "gDKl2I-omMJA"
    },
    {
      "cell_type": "code",
      "source": [
        "a = torch.zeros((8, 1, 2))"
      ],
      "metadata": {
        "id": "nVEupGcxmLdu"
      },
      "id": "nVEupGcxmLdu",
      "execution_count": null,
      "outputs": []
    },
    {
      "cell_type": "code",
      "source": [
        "a.reshape(16)"
      ],
      "metadata": {
        "colab": {
          "base_uri": "https://localhost:8080/"
        },
        "id": "ZFxsz0Til-rS",
        "outputId": "89c5588a-88c9-4a3a-c9e0-7774288bc4c9"
      },
      "id": "ZFxsz0Til-rS",
      "execution_count": null,
      "outputs": [
        {
          "output_type": "execute_result",
          "data": {
            "text/plain": [
              "tensor([0., 0., 0., 0., 0., 0., 0., 0., 0., 0., 0., 0., 0., 0., 0., 0.])"
            ]
          },
          "metadata": {},
          "execution_count": 80
        }
      ]
    },
    {
      "cell_type": "code",
      "source": [
        "a.flatten()"
      ],
      "metadata": {
        "colab": {
          "base_uri": "https://localhost:8080/"
        },
        "id": "qcCydX1kmWH7",
        "outputId": "a9f420a6-8619-402b-e2d6-e1906b883e45"
      },
      "id": "qcCydX1kmWH7",
      "execution_count": null,
      "outputs": [
        {
          "output_type": "execute_result",
          "data": {
            "text/plain": [
              "tensor([0., 0., 0., 0., 0., 0., 0., 0., 0., 0., 0., 0., 0., 0., 0., 0.])"
            ]
          },
          "metadata": {},
          "execution_count": 81
        }
      ]
    },
    {
      "cell_type": "code",
      "source": [
        "a"
      ],
      "metadata": {
        "colab": {
          "base_uri": "https://localhost:8080/"
        },
        "id": "WRmMlDQbmXyZ",
        "outputId": "d0488058-4605-419c-fede-e2652f105660"
      },
      "id": "WRmMlDQbmXyZ",
      "execution_count": null,
      "outputs": [
        {
          "output_type": "execute_result",
          "data": {
            "text/plain": [
              "tensor([[[0., 0.]],\n",
              "\n",
              "        [[0., 0.]],\n",
              "\n",
              "        [[0., 0.]],\n",
              "\n",
              "        [[0., 0.]],\n",
              "\n",
              "        [[0., 0.]],\n",
              "\n",
              "        [[0., 0.]],\n",
              "\n",
              "        [[0., 0.]],\n",
              "\n",
              "        [[0., 0.]]])"
            ]
          },
          "metadata": {},
          "execution_count": 82
        }
      ]
    },
    {
      "cell_type": "code",
      "source": [
        "a.reshape((2, -1))"
      ],
      "metadata": {
        "colab": {
          "base_uri": "https://localhost:8080/"
        },
        "id": "5dtExgDwmYPH",
        "outputId": "9767badd-5173-4571-9882-3dd0f0d5fe9a"
      },
      "id": "5dtExgDwmYPH",
      "execution_count": null,
      "outputs": [
        {
          "output_type": "execute_result",
          "data": {
            "text/plain": [
              "tensor([[0., 0., 0., 0., 0., 0., 0., 0.],\n",
              "        [0., 0., 0., 0., 0., 0., 0., 0.]])"
            ]
          },
          "metadata": {},
          "execution_count": 83
        }
      ]
    },
    {
      "cell_type": "code",
      "source": [
        "## Permuting\n",
        "a.permute(2, 0, 1).shape"
      ],
      "metadata": {
        "colab": {
          "base_uri": "https://localhost:8080/"
        },
        "id": "sZy86zQnmcPx",
        "outputId": "0b822a2f-70b4-4303-fbdc-792a7cb1ffd5"
      },
      "id": "sZy86zQnmcPx",
      "execution_count": null,
      "outputs": [
        {
          "output_type": "execute_result",
          "data": {
            "text/plain": [
              "torch.Size([2, 8, 1])"
            ]
          },
          "metadata": {},
          "execution_count": 88
        }
      ]
    },
    {
      "cell_type": "code",
      "source": [
        "## unsqueeze: adds a new dimension\n",
        "c = torch.rand(226, 226, 3)\n",
        "c.unsqueeze(1).shape ## arg is where do you want the new dim"
      ],
      "metadata": {
        "colab": {
          "base_uri": "https://localhost:8080/"
        },
        "id": "qDGwniSDmerO",
        "outputId": "e55ef9a5-8737-4be8-968c-53510f489488"
      },
      "id": "qDGwniSDmerO",
      "execution_count": null,
      "outputs": [
        {
          "output_type": "execute_result",
          "data": {
            "text/plain": [
              "torch.Size([226, 1, 226, 3])"
            ]
          },
          "metadata": {},
          "execution_count": 90
        }
      ]
    },
    {
      "cell_type": "code",
      "source": [
        "## squeeze: reduces a dim where 1 was present\n",
        "d = torch.rand(1, 20)"
      ],
      "metadata": {
        "id": "WWLbgvUsmwwn"
      },
      "id": "WWLbgvUsmwwn",
      "execution_count": null,
      "outputs": []
    },
    {
      "cell_type": "code",
      "source": [
        "d.squeeze(0)"
      ],
      "metadata": {
        "colab": {
          "base_uri": "https://localhost:8080/"
        },
        "id": "-7CWTRZ8nH7V",
        "outputId": "40a0f134-1d68-4c6a-f088-f6f44f6c4758"
      },
      "id": "-7CWTRZ8nH7V",
      "execution_count": null,
      "outputs": [
        {
          "output_type": "execute_result",
          "data": {
            "text/plain": [
              "tensor([0.6303, 0.0639, 0.1469, 0.0382, 0.4907, 0.0673, 0.7226, 0.5286, 0.5670,\n",
              "        0.7752, 0.0593, 0.6092, 0.3009, 0.8276, 0.6596, 0.6307, 0.9589, 0.2267,\n",
              "        0.2704, 0.1168])"
            ]
          },
          "metadata": {},
          "execution_count": 92
        }
      ]
    },
    {
      "cell_type": "code",
      "source": [
        "d.squeeze(1) ## Nothing Happened"
      ],
      "metadata": {
        "colab": {
          "base_uri": "https://localhost:8080/"
        },
        "id": "S7uuE0oLnJq9",
        "outputId": "c84e558d-acd2-46e7-b263-9a1972083848"
      },
      "id": "S7uuE0oLnJq9",
      "execution_count": null,
      "outputs": [
        {
          "output_type": "execute_result",
          "data": {
            "text/plain": [
              "tensor([[0.6303, 0.0639, 0.1469, 0.0382, 0.4907, 0.0673, 0.7226, 0.5286, 0.5670,\n",
              "         0.7752, 0.0593, 0.6092, 0.3009, 0.8276, 0.6596, 0.6307, 0.9589, 0.2267,\n",
              "         0.2704, 0.1168]])"
            ]
          },
          "metadata": {},
          "execution_count": 93
        }
      ]
    },
    {
      "cell_type": "markdown",
      "source": [
        "## Numpy <=> Torch"
      ],
      "metadata": {
        "id": "E2HeXXjdnQKr"
      },
      "id": "E2HeXXjdnQKr"
    },
    {
      "cell_type": "code",
      "source": [
        "import numpy as np"
      ],
      "metadata": {
        "id": "laynQeXanK-5"
      },
      "id": "laynQeXanK-5",
      "execution_count": null,
      "outputs": []
    },
    {
      "cell_type": "code",
      "source": [
        "a = torch.tensor((3,4,2))"
      ],
      "metadata": {
        "id": "8cQBSWf4nU54"
      },
      "id": "8cQBSWf4nU54",
      "execution_count": null,
      "outputs": []
    },
    {
      "cell_type": "code",
      "source": [
        "b = a.numpy()"
      ],
      "metadata": {
        "id": "wPQAeTW7nYVS"
      },
      "id": "wPQAeTW7nYVS",
      "execution_count": null,
      "outputs": []
    },
    {
      "cell_type": "code",
      "source": [
        "type(b)"
      ],
      "metadata": {
        "colab": {
          "base_uri": "https://localhost:8080/"
        },
        "id": "hfp1ieNcnaLE",
        "outputId": "c155b376-c9c9-4994-c837-48ff56dd14ca"
      },
      "id": "hfp1ieNcnaLE",
      "execution_count": null,
      "outputs": [
        {
          "output_type": "execute_result",
          "data": {
            "text/plain": [
              "numpy.ndarray"
            ]
          },
          "metadata": {},
          "execution_count": 97
        }
      ]
    },
    {
      "cell_type": "code",
      "source": [
        "c = np.array([1, 2, 3])"
      ],
      "metadata": {
        "id": "dv1oymTHna6D"
      },
      "id": "dv1oymTHna6D",
      "execution_count": null,
      "outputs": []
    },
    {
      "cell_type": "code",
      "source": [
        "torch.from_numpy(c)"
      ],
      "metadata": {
        "colab": {
          "base_uri": "https://localhost:8080/"
        },
        "id": "rRZs0G28neNe",
        "outputId": "2e54b817-9030-4630-bb72-a935474c2de9"
      },
      "id": "rRZs0G28neNe",
      "execution_count": null,
      "outputs": [
        {
          "output_type": "execute_result",
          "data": {
            "text/plain": [
              "tensor([1, 2, 3])"
            ]
          },
          "metadata": {},
          "execution_count": 99
        }
      ]
    },
    {
      "cell_type": "code",
      "source": [],
      "metadata": {
        "id": "xF07RcRpngyF"
      },
      "id": "xF07RcRpngyF",
      "execution_count": null,
      "outputs": []
    }
  ],
  "metadata": {
    "kernelspec": {
      "display_name": "Python 3",
      "name": "python3"
    },
    "language_info": {
      "codemirror_mode": {
        "name": "ipython",
        "version": 3
      },
      "file_extension": ".py",
      "mimetype": "text/x-python",
      "name": "python",
      "nbconvert_exporter": "python",
      "pygments_lexer": "ipython3",
      "version": "3.13.3"
    },
    "colab": {
      "provenance": []
    }
  },
  "nbformat": 4,
  "nbformat_minor": 5
}