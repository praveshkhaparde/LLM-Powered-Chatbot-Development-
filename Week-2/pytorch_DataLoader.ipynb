{
 "cells": [
  {
   "cell_type": "code",
   "execution_count": 1,
   "id": "b40d75b3",
   "metadata": {},
   "outputs": [],
   "source": [
    "## Batch Gradient Descent is memory-inefficient\n",
    "## Convergence is slow too\n",
    "\n",
    "## Solution: Use batches of data to train the model, mini-batch gradient descent"
   ]
  },
  {
   "cell_type": "code",
   "execution_count": 8,
   "id": "9ce44dd0",
   "metadata": {},
   "outputs": [],
   "source": [
    "import torch"
   ]
  },
  {
   "cell_type": "code",
   "execution_count": 2,
   "id": "c9b5d1fb",
   "metadata": {},
   "outputs": [],
   "source": [
    "from sklearn.datasets import make_classification"
   ]
  },
  {
   "cell_type": "code",
   "execution_count": 5,
   "id": "30be7243",
   "metadata": {},
   "outputs": [],
   "source": [
    "# Step-1: Create a synthetica classification dataset using sklearn\n",
    "X, y = make_classification(\n",
    "    n_samples = 10,\n",
    "    n_features=2,\n",
    "    n_informative=2,\n",
    "    n_redundant=0,\n",
    "    n_classes=2,\n",
    "    random_state=42\n",
    ")"
   ]
  },
  {
   "cell_type": "code",
   "execution_count": 6,
   "id": "ebec0ca3",
   "metadata": {},
   "outputs": [
    {
     "data": {
      "text/plain": [
       "array([[ 1.06833894, -0.97007347],\n",
       "       [-1.14021544, -0.83879234],\n",
       "       [-2.8953973 ,  1.97686236],\n",
       "       [-0.72063436, -0.96059253],\n",
       "       [-1.96287438, -0.99225135],\n",
       "       [-0.9382051 , -0.54304815],\n",
       "       [ 1.72725924, -1.18582677],\n",
       "       [ 1.77736657,  1.51157598],\n",
       "       [ 1.89969252,  0.83444483],\n",
       "       [-0.58723065, -1.97171753]])"
      ]
     },
     "execution_count": 6,
     "metadata": {},
     "output_type": "execute_result"
    }
   ],
   "source": [
    "X"
   ]
  },
  {
   "cell_type": "code",
   "execution_count": 7,
   "id": "2ed2120c",
   "metadata": {},
   "outputs": [
    {
     "data": {
      "text/plain": [
       "array([1, 0, 0, 0, 0, 1, 1, 1, 1, 0])"
      ]
     },
     "execution_count": 7,
     "metadata": {},
     "output_type": "execute_result"
    }
   ],
   "source": [
    "y"
   ]
  },
  {
   "cell_type": "code",
   "execution_count": 9,
   "id": "23dd1b2d",
   "metadata": {},
   "outputs": [],
   "source": [
    "X = torch.tensor(X, dtype = torch.float32)\n",
    "y = torch.tensor(y, dtype = torch.long)"
   ]
  },
  {
   "cell_type": "code",
   "execution_count": 10,
   "id": "a5e5aa53",
   "metadata": {},
   "outputs": [],
   "source": [
    "from torch.utils.data import Dataset, DataLoader"
   ]
  },
  {
   "cell_type": "code",
   "execution_count": 11,
   "id": "6f34c64b",
   "metadata": {},
   "outputs": [],
   "source": [
    "class CustomDataset(Dataset):\n",
    "    def __init__(self, features, labels):\n",
    "        self.features = features\n",
    "        self.labels = labels\n",
    "\n",
    "    def __len__(self):\n",
    "        return self.features.shape[0]\n",
    "    \n",
    "    def __getitem__(self, index):\n",
    "        return self.features[index], self.labels[index]"
   ]
  },
  {
   "cell_type": "code",
   "execution_count": 12,
   "id": "c3183ebe",
   "metadata": {},
   "outputs": [],
   "source": [
    "dataset = CustomDataset(X, y)"
   ]
  },
  {
   "cell_type": "code",
   "execution_count": 13,
   "id": "bdbda9ef",
   "metadata": {},
   "outputs": [
    {
     "data": {
      "text/plain": [
       "10"
      ]
     },
     "execution_count": 13,
     "metadata": {},
     "output_type": "execute_result"
    }
   ],
   "source": [
    "len(dataset)"
   ]
  },
  {
   "cell_type": "code",
   "execution_count": 14,
   "id": "9dc8d742",
   "metadata": {},
   "outputs": [
    {
     "data": {
      "text/plain": [
       "(tensor([ 1.0683, -0.9701]), tensor(1))"
      ]
     },
     "execution_count": 14,
     "metadata": {},
     "output_type": "execute_result"
    }
   ],
   "source": [
    "dataset[0]"
   ]
  },
  {
   "cell_type": "code",
   "execution_count": null,
   "id": "926b4772",
   "metadata": {},
   "outputs": [],
   "source": [
    "dataloader = DataLoader(dataset, batch_size=2, shuffle=True) ## an iterable"
   ]
  },
  {
   "cell_type": "code",
   "execution_count": 17,
   "id": "024e32fc",
   "metadata": {},
   "outputs": [
    {
     "name": "stdout",
     "output_type": "stream",
     "text": [
      "tensor([[ 1.7273, -1.1858],\n",
      "        [-0.9382, -0.5430]])\n",
      "tensor([1, 1])\n",
      "--------------------\n",
      "tensor([[-2.8954,  1.9769],\n",
      "        [-0.7206, -0.9606]])\n",
      "tensor([0, 0])\n",
      "--------------------\n",
      "tensor([[ 1.7774,  1.5116],\n",
      "        [-0.5872, -1.9717]])\n",
      "tensor([1, 0])\n",
      "--------------------\n",
      "tensor([[ 1.0683, -0.9701],\n",
      "        [ 1.8997,  0.8344]])\n",
      "tensor([1, 1])\n",
      "--------------------\n",
      "tensor([[-1.9629, -0.9923],\n",
      "        [-1.1402, -0.8388]])\n",
      "tensor([0, 0])\n",
      "--------------------\n"
     ]
    }
   ],
   "source": [
    "for batch_features, batch_labels in dataloader:\n",
    "    print(batch_features)\n",
    "    print(batch_labels)\n",
    "    print('-'*20)"
   ]
  },
  {
   "cell_type": "code",
   "execution_count": null,
   "id": "38fa535d",
   "metadata": {},
   "outputs": [],
   "source": [
    "## transforming the data before using:\n",
    "## transform the data in __getitem__ before returning\n",
    "## e.g. images: resize, black/white, data augmentation\n",
    "##      text: lower(), lemmatization, stopwords\n",
    "\n",
    "\n",
    "\n",
    "## parallelistaion using more workers, set argument num_workers"
   ]
  },
  {
   "cell_type": "code",
   "execution_count": null,
   "id": "4c27d746",
   "metadata": {},
   "outputs": [],
   "source": [
    "## customSamplers can be made as well, e.g. if we have a skewed classification problem\n",
    "## we'd want a the exact skewed ratio in all our batches"
   ]
  },
  {
   "cell_type": "code",
   "execution_count": null,
   "id": "9effb09e",
   "metadata": {},
   "outputs": [],
   "source": [
    "## collate_fn in PyTorch's DataLoader is a function that specifies how to combine a list of samples from a dataset into a single batch\n",
    "## can be customised too!"
   ]
  },
  {
   "cell_type": "code",
   "execution_count": 19,
   "id": "1c87c98b",
   "metadata": {},
   "outputs": [],
   "source": [
    "import pandas as pd\n",
    "import numpy as np"
   ]
  },
  {
   "cell_type": "code",
   "execution_count": 20,
   "id": "f3382044",
   "metadata": {},
   "outputs": [],
   "source": [
    "df = pd.read_csv('https://raw.githubusercontent.com/gscdit/Breast-Cancer-Detection/refs/heads/master/data.csv')"
   ]
  },
  {
   "cell_type": "code",
   "execution_count": 21,
   "id": "e5ae564f",
   "metadata": {},
   "outputs": [],
   "source": [
    "df.drop(columns= ['id', 'Unnamed: 32'], inplace=True)"
   ]
  },
  {
   "cell_type": "code",
   "execution_count": 22,
   "id": "dbe9c809",
   "metadata": {},
   "outputs": [],
   "source": [
    "from sklearn.model_selection import train_test_split\n",
    "from sklearn.preprocessing import StandardScaler\n",
    "from sklearn.preprocessing import LabelEncoder"
   ]
  },
  {
   "cell_type": "code",
   "execution_count": 23,
   "id": "39e03b5c",
   "metadata": {},
   "outputs": [],
   "source": [
    "X_train, X_test, y_train, y_test = train_test_split(df.iloc[:, 1:], df.iloc[:, 0], test_size=0.2)"
   ]
  },
  {
   "cell_type": "code",
   "execution_count": 24,
   "id": "7e3e556d",
   "metadata": {},
   "outputs": [],
   "source": [
    "scaler = StandardScaler()\n",
    "X_train = scaler.fit_transform(X_train)\n",
    "X_test = scaler.fit_transform(X_test)"
   ]
  },
  {
   "cell_type": "code",
   "execution_count": 25,
   "id": "fa30416e",
   "metadata": {},
   "outputs": [],
   "source": [
    "encoder = LabelEncoder()\n",
    "y_train = encoder.fit_transform(y_train)\n",
    "y_test = encoder.transform(y_test)"
   ]
  },
  {
   "cell_type": "code",
   "execution_count": 26,
   "id": "695b5a67",
   "metadata": {},
   "outputs": [],
   "source": [
    "X_train_tensor = torch.from_numpy(X_train)\n",
    "y_train_tensor = torch.from_numpy(y_train)\n",
    "X_test_tensor = torch.from_numpy(X_test)\n",
    "y_test_tensor = torch.from_numpy(y_test)"
   ]
  },
  {
   "cell_type": "code",
   "execution_count": 28,
   "id": "429bce83",
   "metadata": {},
   "outputs": [],
   "source": [
    "class CustomDataset(Dataset):\n",
    "    def __init__(self, features, labels):\n",
    "        self.features = features\n",
    "        self.labels = labels\n",
    "\n",
    "    def __len__(self):\n",
    "        return self.features.shape[0]\n",
    "    \n",
    "    def __getitem__(self, index):\n",
    "        return self.features[index], self.labels[index]"
   ]
  },
  {
   "cell_type": "code",
   "execution_count": 27,
   "id": "64e9eed2",
   "metadata": {},
   "outputs": [],
   "source": [
    "import torch.nn as nn"
   ]
  },
  {
   "cell_type": "code",
   "execution_count": 29,
   "id": "15a7373a",
   "metadata": {},
   "outputs": [],
   "source": [
    "train_dataset = CustomDataset(X_train_tensor, y_train_tensor)\n",
    "test_dataset = CustomDataset(X_test_tensor, y_test_tensor)"
   ]
  },
  {
   "cell_type": "code",
   "execution_count": 30,
   "id": "1e18b670",
   "metadata": {},
   "outputs": [],
   "source": [
    "train_loader = DataLoader(train_dataset, batch_size=32, shuffle=True)\n",
    "test_loader = DataLoader(test_dataset, batch_size=32, shuffle=True)"
   ]
  },
  {
   "cell_type": "code",
   "execution_count": 31,
   "id": "3f9db644",
   "metadata": {},
   "outputs": [],
   "source": [
    "class MySimpleNN(nn.Module):\n",
    "    ## Using built-in loss function\n",
    "    def __init__(self, num_features):\n",
    "        super().__init__()\n",
    "        self.linear = nn.Linear(num_features, 1)\n",
    "        self.sigmoid = nn.Sigmoid()\n",
    "\n",
    "    def forward(self, features):\n",
    "        out = self.linear(features)\n",
    "        out = self.sigmoid(out)\n",
    "        return out"
   ]
  },
  {
   "cell_type": "code",
   "execution_count": 32,
   "id": "588e1575",
   "metadata": {},
   "outputs": [],
   "source": [
    "learning_rate = 0.1\n",
    "epochs = 25"
   ]
  },
  {
   "cell_type": "code",
   "execution_count": 33,
   "id": "db3a1f8b",
   "metadata": {},
   "outputs": [],
   "source": [
    "model = MySimpleNN(X_train_tensor.shape[1])\n",
    "optimizer = torch.optim.SGD(model.parameters(), lr = learning_rate)\n",
    "loss_function = nn.BCELoss()"
   ]
  },
  {
   "cell_type": "code",
   "execution_count": 39,
   "id": "dd58b35e",
   "metadata": {},
   "outputs": [
    {
     "name": "stdout",
     "output_type": "stream",
     "text": [
      "Epoch: 1, Loss: 0.7623339891433716\n",
      "Epoch: 1, Loss: 0.5542365908622742\n",
      "Epoch: 1, Loss: 0.4920593500137329\n",
      "Epoch: 1, Loss: 0.41141289472579956\n",
      "Epoch: 1, Loss: 0.41087689995765686\n",
      "Epoch: 1, Loss: 0.36457258462905884\n",
      "Epoch: 1, Loss: 0.2835494875907898\n",
      "Epoch: 1, Loss: 0.2606377899646759\n",
      "Epoch: 1, Loss: 0.22937524318695068\n",
      "Epoch: 1, Loss: 0.20857632160186768\n",
      "Epoch: 1, Loss: 0.22648610174655914\n",
      "Epoch: 1, Loss: 0.3033960163593292\n",
      "Epoch: 1, Loss: 0.22582444548606873\n",
      "Epoch: 1, Loss: 0.19090993702411652\n",
      "Epoch: 1, Loss: 0.24379292130470276\n",
      "Epoch: 2, Loss: 0.17796224355697632\n",
      "Epoch: 2, Loss: 0.1549619734287262\n",
      "Epoch: 2, Loss: 0.1799703687429428\n",
      "Epoch: 2, Loss: 0.21160843968391418\n",
      "Epoch: 2, Loss: 0.15130051970481873\n",
      "Epoch: 2, Loss: 0.15613576769828796\n",
      "Epoch: 2, Loss: 0.20483456552028656\n",
      "Epoch: 2, Loss: 0.17692184448242188\n",
      "Epoch: 2, Loss: 0.22914950549602509\n",
      "Epoch: 2, Loss: 0.16981317102909088\n",
      "Epoch: 2, Loss: 0.17333531379699707\n",
      "Epoch: 2, Loss: 0.19528992474079132\n",
      "Epoch: 2, Loss: 0.20452536642551422\n",
      "Epoch: 2, Loss: 0.1544351577758789\n",
      "Epoch: 2, Loss: 0.025682682171463966\n",
      "Epoch: 3, Loss: 0.2036268562078476\n",
      "Epoch: 3, Loss: 0.10383795946836472\n",
      "Epoch: 3, Loss: 0.16415293514728546\n",
      "Epoch: 3, Loss: 0.1248735636472702\n",
      "Epoch: 3, Loss: 0.19831660389900208\n",
      "Epoch: 3, Loss: 0.09220309555530548\n",
      "Epoch: 3, Loss: 0.191737100481987\n",
      "Epoch: 3, Loss: 0.12012040615081787\n",
      "Epoch: 3, Loss: 0.18654969334602356\n",
      "Epoch: 3, Loss: 0.09650611877441406\n",
      "Epoch: 3, Loss: 0.07858152687549591\n",
      "Epoch: 3, Loss: 0.16981206834316254\n",
      "Epoch: 3, Loss: 0.14061656594276428\n",
      "Epoch: 3, Loss: 0.19027508795261383\n",
      "Epoch: 3, Loss: 0.09951794147491455\n",
      "Epoch: 4, Loss: 0.16985535621643066\n",
      "Epoch: 4, Loss: 0.078913614153862\n",
      "Epoch: 4, Loss: 0.1058623194694519\n",
      "Epoch: 4, Loss: 0.10293716937303543\n",
      "Epoch: 4, Loss: 0.1412886679172516\n",
      "Epoch: 4, Loss: 0.10092394798994064\n",
      "Epoch: 4, Loss: 0.11598541587591171\n",
      "Epoch: 4, Loss: 0.0947551280260086\n",
      "Epoch: 4, Loss: 0.12723301351070404\n",
      "Epoch: 4, Loss: 0.2455960065126419\n",
      "Epoch: 4, Loss: 0.10228366404771805\n",
      "Epoch: 4, Loss: 0.09575874358415604\n",
      "Epoch: 4, Loss: 0.179534912109375\n",
      "Epoch: 4, Loss: 0.1715422123670578\n",
      "Epoch: 4, Loss: 0.09107823669910431\n",
      "Epoch: 5, Loss: 0.20133595168590546\n",
      "Epoch: 5, Loss: 0.12861624360084534\n",
      "Epoch: 5, Loss: 0.19348689913749695\n",
      "Epoch: 5, Loss: 0.07699109613895416\n",
      "Epoch: 5, Loss: 0.12912076711654663\n",
      "Epoch: 5, Loss: 0.07776692509651184\n",
      "Epoch: 5, Loss: 0.11472905427217484\n",
      "Epoch: 5, Loss: 0.11860820651054382\n",
      "Epoch: 5, Loss: 0.06948258727788925\n",
      "Epoch: 5, Loss: 0.10361939668655396\n",
      "Epoch: 5, Loss: 0.04741693288087845\n",
      "Epoch: 5, Loss: 0.1889219433069229\n",
      "Epoch: 5, Loss: 0.0809674859046936\n",
      "Epoch: 5, Loss: 0.13167041540145874\n",
      "Epoch: 5, Loss: 0.1741342693567276\n",
      "Epoch: 6, Loss: 0.129844069480896\n",
      "Epoch: 6, Loss: 0.12378565222024918\n",
      "Epoch: 6, Loss: 0.08141452074050903\n",
      "Epoch: 6, Loss: 0.14050737023353577\n",
      "Epoch: 6, Loss: 0.09574474394321442\n",
      "Epoch: 6, Loss: 0.11935947835445404\n",
      "Epoch: 6, Loss: 0.27997657656669617\n",
      "Epoch: 6, Loss: 0.05882243812084198\n",
      "Epoch: 6, Loss: 0.07902202755212784\n",
      "Epoch: 6, Loss: 0.12808959186077118\n",
      "Epoch: 6, Loss: 0.12038476765155792\n",
      "Epoch: 6, Loss: 0.07293654978275299\n",
      "Epoch: 6, Loss: 0.06823866069316864\n",
      "Epoch: 6, Loss: 0.0841980129480362\n",
      "Epoch: 6, Loss: 0.05207151919603348\n",
      "Epoch: 7, Loss: 0.07315900921821594\n",
      "Epoch: 7, Loss: 0.11194933950901031\n",
      "Epoch: 7, Loss: 0.11606176197528839\n",
      "Epoch: 7, Loss: 0.0619652159512043\n",
      "Epoch: 7, Loss: 0.199256032705307\n",
      "Epoch: 7, Loss: 0.10276785492897034\n",
      "Epoch: 7, Loss: 0.1733638495206833\n",
      "Epoch: 7, Loss: 0.08601341396570206\n",
      "Epoch: 7, Loss: 0.1310623735189438\n",
      "Epoch: 7, Loss: 0.08208402991294861\n",
      "Epoch: 7, Loss: 0.14046579599380493\n",
      "Epoch: 7, Loss: 0.061437975615262985\n",
      "Epoch: 7, Loss: 0.07776416838169098\n",
      "Epoch: 7, Loss: 0.08385393768548965\n",
      "Epoch: 7, Loss: 0.057513345032930374\n",
      "Epoch: 8, Loss: 0.13549022376537323\n",
      "Epoch: 8, Loss: 0.10146132856607437\n",
      "Epoch: 8, Loss: 0.19261014461517334\n",
      "Epoch: 8, Loss: 0.13638406991958618\n",
      "Epoch: 8, Loss: 0.0778779685497284\n",
      "Epoch: 8, Loss: 0.05697984993457794\n",
      "Epoch: 8, Loss: 0.08922679722309113\n",
      "Epoch: 8, Loss: 0.111158587038517\n",
      "Epoch: 8, Loss: 0.045298416167497635\n",
      "Epoch: 8, Loss: 0.10311292856931686\n",
      "Epoch: 8, Loss: 0.10458119958639145\n",
      "Epoch: 8, Loss: 0.07722518593072891\n",
      "Epoch: 8, Loss: 0.1537991166114807\n",
      "Epoch: 8, Loss: 0.058787763118743896\n",
      "Epoch: 8, Loss: 0.04069660231471062\n",
      "Epoch: 9, Loss: 0.10011569410562515\n",
      "Epoch: 9, Loss: 0.12090127170085907\n",
      "Epoch: 9, Loss: 0.08824639022350311\n",
      "Epoch: 9, Loss: 0.0974116101861\n",
      "Epoch: 9, Loss: 0.17285765707492828\n",
      "Epoch: 9, Loss: 0.21165573596954346\n",
      "Epoch: 9, Loss: 0.0574311725795269\n",
      "Epoch: 9, Loss: 0.07805970311164856\n",
      "Epoch: 9, Loss: 0.07198450714349747\n",
      "Epoch: 9, Loss: 0.08795472979545593\n",
      "Epoch: 9, Loss: 0.06315707415342331\n",
      "Epoch: 9, Loss: 0.07284949719905853\n",
      "Epoch: 9, Loss: 0.05550559610128403\n",
      "Epoch: 9, Loss: 0.10838276147842407\n",
      "Epoch: 9, Loss: 0.07120870053768158\n",
      "Epoch: 10, Loss: 0.0832720622420311\n",
      "Epoch: 10, Loss: 0.07651163637638092\n",
      "Epoch: 10, Loss: 0.12885433435440063\n",
      "Epoch: 10, Loss: 0.10495767742395401\n",
      "Epoch: 10, Loss: 0.04939364269375801\n",
      "Epoch: 10, Loss: 0.1158834770321846\n",
      "Epoch: 10, Loss: 0.10204961895942688\n",
      "Epoch: 10, Loss: 0.09458692371845245\n",
      "Epoch: 10, Loss: 0.03519212082028389\n",
      "Epoch: 10, Loss: 0.06170095130801201\n",
      "Epoch: 10, Loss: 0.06808237731456757\n",
      "Epoch: 10, Loss: 0.24670973420143127\n",
      "Epoch: 10, Loss: 0.0887618437409401\n",
      "Epoch: 10, Loss: 0.09115571528673172\n",
      "Epoch: 10, Loss: 0.07013185322284698\n",
      "Epoch: 11, Loss: 0.06114652007818222\n",
      "Epoch: 11, Loss: 0.2135988473892212\n",
      "Epoch: 11, Loss: 0.05502412095665932\n",
      "Epoch: 11, Loss: 0.10572995245456696\n",
      "Epoch: 11, Loss: 0.1343049705028534\n",
      "Epoch: 11, Loss: 0.08112165331840515\n",
      "Epoch: 11, Loss: 0.13863801956176758\n",
      "Epoch: 11, Loss: 0.04265749454498291\n",
      "Epoch: 11, Loss: 0.054781924933195114\n",
      "Epoch: 11, Loss: 0.07953473180532455\n",
      "Epoch: 11, Loss: 0.06709280610084534\n",
      "Epoch: 11, Loss: 0.0944179818034172\n",
      "Epoch: 11, Loss: 0.10400347411632538\n",
      "Epoch: 11, Loss: 0.08889716863632202\n",
      "Epoch: 11, Loss: 0.015311100520193577\n",
      "Epoch: 12, Loss: 0.05124027654528618\n",
      "Epoch: 12, Loss: 0.06287690252065659\n",
      "Epoch: 12, Loss: 0.07713142782449722\n",
      "Epoch: 12, Loss: 0.04913100600242615\n",
      "Epoch: 12, Loss: 0.18457044661045074\n",
      "Epoch: 12, Loss: 0.1592947244644165\n",
      "Epoch: 12, Loss: 0.050516918301582336\n",
      "Epoch: 12, Loss: 0.12194722890853882\n",
      "Epoch: 12, Loss: 0.07174064218997955\n",
      "Epoch: 12, Loss: 0.07185599207878113\n",
      "Epoch: 12, Loss: 0.061254143714904785\n",
      "Epoch: 12, Loss: 0.2195788323879242\n",
      "Epoch: 12, Loss: 0.027542443946003914\n",
      "Epoch: 12, Loss: 0.07878262549638748\n",
      "Epoch: 12, Loss: 0.04490526393055916\n",
      "Epoch: 13, Loss: 0.11836036294698715\n",
      "Epoch: 13, Loss: 0.05022306367754936\n",
      "Epoch: 13, Loss: 0.0790429413318634\n",
      "Epoch: 13, Loss: 0.09692566096782684\n",
      "Epoch: 13, Loss: 0.09837163239717484\n",
      "Epoch: 13, Loss: 0.07642192393541336\n",
      "Epoch: 13, Loss: 0.04954478517174721\n",
      "Epoch: 13, Loss: 0.06560827791690826\n",
      "Epoch: 13, Loss: 0.10409446805715561\n",
      "Epoch: 13, Loss: 0.11066178977489471\n",
      "Epoch: 13, Loss: 0.05862374231219292\n",
      "Epoch: 13, Loss: 0.2119649350643158\n",
      "Epoch: 13, Loss: 0.10019738227128983\n",
      "Epoch: 13, Loss: 0.033072616904973984\n",
      "Epoch: 13, Loss: 0.06977967172861099\n",
      "Epoch: 14, Loss: 0.08443707227706909\n",
      "Epoch: 14, Loss: 0.0541820228099823\n",
      "Epoch: 14, Loss: 0.05187886953353882\n",
      "Epoch: 14, Loss: 0.05393492430448532\n",
      "Epoch: 14, Loss: 0.13905911147594452\n",
      "Epoch: 14, Loss: 0.045100875198841095\n",
      "Epoch: 14, Loss: 0.17624622583389282\n",
      "Epoch: 14, Loss: 0.12163504958152771\n",
      "Epoch: 14, Loss: 0.09326941519975662\n",
      "Epoch: 14, Loss: 0.056638218462467194\n",
      "Epoch: 14, Loss: 0.06542009115219116\n",
      "Epoch: 14, Loss: 0.182911217212677\n",
      "Epoch: 14, Loss: 0.06375640630722046\n",
      "Epoch: 14, Loss: 0.04187167435884476\n",
      "Epoch: 14, Loss: 0.06350302696228027\n",
      "Epoch: 15, Loss: 0.10885747522115707\n",
      "Epoch: 15, Loss: 0.05917365476489067\n",
      "Epoch: 15, Loss: 0.13055630028247833\n",
      "Epoch: 15, Loss: 0.07546557486057281\n",
      "Epoch: 15, Loss: 0.12684080004692078\n",
      "Epoch: 15, Loss: 0.045144204050302505\n",
      "Epoch: 15, Loss: 0.055266380310058594\n",
      "Epoch: 15, Loss: 0.19934363663196564\n",
      "Epoch: 15, Loss: 0.025441132485866547\n",
      "Epoch: 15, Loss: 0.033695679157972336\n",
      "Epoch: 15, Loss: 0.0777743011713028\n",
      "Epoch: 15, Loss: 0.027281802147626877\n",
      "Epoch: 15, Loss: 0.15617972612380981\n",
      "Epoch: 15, Loss: 0.09219348430633545\n",
      "Epoch: 15, Loss: 0.046200405806303024\n",
      "Epoch: 16, Loss: 0.0750562846660614\n",
      "Epoch: 16, Loss: 0.11677834391593933\n",
      "Epoch: 16, Loss: 0.0669913962483406\n",
      "Epoch: 16, Loss: 0.06908386200666428\n",
      "Epoch: 16, Loss: 0.12369706481695175\n",
      "Epoch: 16, Loss: 0.22936153411865234\n",
      "Epoch: 16, Loss: 0.039453037083148956\n",
      "Epoch: 16, Loss: 0.06017317622900009\n",
      "Epoch: 16, Loss: 0.08013147115707397\n",
      "Epoch: 16, Loss: 0.05178561806678772\n",
      "Epoch: 16, Loss: 0.04017731919884682\n",
      "Epoch: 16, Loss: 0.07086826860904694\n",
      "Epoch: 16, Loss: 0.035323616117239\n",
      "Epoch: 16, Loss: 0.125895157456398\n",
      "Epoch: 16, Loss: 0.07968740910291672\n",
      "Epoch: 17, Loss: 0.0684954822063446\n",
      "Epoch: 17, Loss: 0.05009913444519043\n",
      "Epoch: 17, Loss: 0.06395254284143448\n",
      "Epoch: 17, Loss: 0.1432107388973236\n",
      "Epoch: 17, Loss: 0.0830177441239357\n",
      "Epoch: 17, Loss: 0.04521499574184418\n",
      "Epoch: 17, Loss: 0.05525368079543114\n",
      "Epoch: 17, Loss: 0.0804075077176094\n",
      "Epoch: 17, Loss: 0.16237176954746246\n",
      "Epoch: 17, Loss: 0.11011295020580292\n",
      "Epoch: 17, Loss: 0.04274694249033928\n",
      "Epoch: 17, Loss: 0.07388203591108322\n",
      "Epoch: 17, Loss: 0.12254029512405396\n",
      "Epoch: 17, Loss: 0.07222294062376022\n",
      "Epoch: 17, Loss: 0.05866425111889839\n",
      "Epoch: 18, Loss: 0.0713830515742302\n",
      "Epoch: 18, Loss: 0.0627276599407196\n",
      "Epoch: 18, Loss: 0.029420766979455948\n",
      "Epoch: 18, Loss: 0.0560445599257946\n",
      "Epoch: 18, Loss: 0.22239111363887787\n",
      "Epoch: 18, Loss: 0.09571193158626556\n",
      "Epoch: 18, Loss: 0.04978327453136444\n",
      "Epoch: 18, Loss: 0.03036697395145893\n",
      "Epoch: 18, Loss: 0.06849212199449539\n",
      "Epoch: 18, Loss: 0.0728578045964241\n",
      "Epoch: 18, Loss: 0.058281444013118744\n",
      "Epoch: 18, Loss: 0.13478605449199677\n",
      "Epoch: 18, Loss: 0.03491299971938133\n",
      "Epoch: 18, Loss: 0.17941103875637054\n",
      "Epoch: 18, Loss: 0.011910817585885525\n",
      "Epoch: 19, Loss: 0.0431176982820034\n",
      "Epoch: 19, Loss: 0.045537009835243225\n",
      "Epoch: 19, Loss: 0.06923623383045197\n",
      "Epoch: 19, Loss: 0.09494472295045853\n",
      "Epoch: 19, Loss: 0.10601581633090973\n",
      "Epoch: 19, Loss: 0.059632558375597\n",
      "Epoch: 19, Loss: 0.047744300216436386\n",
      "Epoch: 19, Loss: 0.20227780938148499\n",
      "Epoch: 19, Loss: 0.08364657312631607\n",
      "Epoch: 19, Loss: 0.04544997215270996\n",
      "Epoch: 19, Loss: 0.023583466187119484\n",
      "Epoch: 19, Loss: 0.04384903237223625\n",
      "Epoch: 19, Loss: 0.15055620670318604\n",
      "Epoch: 19, Loss: 0.12932784855365753\n",
      "Epoch: 19, Loss: 0.05350734665989876\n",
      "Epoch: 20, Loss: 0.07539840042591095\n",
      "Epoch: 20, Loss: 0.0728844404220581\n",
      "Epoch: 20, Loss: 0.12434988468885422\n",
      "Epoch: 20, Loss: 0.04465410113334656\n",
      "Epoch: 20, Loss: 0.052018966525793076\n",
      "Epoch: 20, Loss: 0.12014100700616837\n",
      "Epoch: 20, Loss: 0.19001126289367676\n",
      "Epoch: 20, Loss: 0.05346686765551567\n",
      "Epoch: 20, Loss: 0.03478843718767166\n",
      "Epoch: 20, Loss: 0.035528529435396194\n",
      "Epoch: 20, Loss: 0.07848939299583435\n",
      "Epoch: 20, Loss: 0.07590242475271225\n",
      "Epoch: 20, Loss: 0.06365173310041428\n",
      "Epoch: 20, Loss: 0.11571764200925827\n",
      "Epoch: 20, Loss: 0.019818851724267006\n",
      "Epoch: 21, Loss: 0.05629118159413338\n",
      "Epoch: 21, Loss: 0.13710588216781616\n",
      "Epoch: 21, Loss: 0.09657950699329376\n",
      "Epoch: 21, Loss: 0.212086483836174\n",
      "Epoch: 21, Loss: 0.03604226931929588\n",
      "Epoch: 21, Loss: 0.060810159891843796\n",
      "Epoch: 21, Loss: 0.03842988982796669\n",
      "Epoch: 21, Loss: 0.05054851621389389\n",
      "Epoch: 21, Loss: 0.05888872593641281\n",
      "Epoch: 21, Loss: 0.04219304770231247\n",
      "Epoch: 21, Loss: 0.05608375370502472\n",
      "Epoch: 21, Loss: 0.049229640513658524\n",
      "Epoch: 21, Loss: 0.05527077242732048\n",
      "Epoch: 21, Loss: 0.14401744306087494\n",
      "Epoch: 21, Loss: 0.16999779641628265\n",
      "Epoch: 22, Loss: 0.07940027862787247\n",
      "Epoch: 22, Loss: 0.04514031484723091\n",
      "Epoch: 22, Loss: 0.060982219874858856\n",
      "Epoch: 22, Loss: 0.18808533251285553\n",
      "Epoch: 22, Loss: 0.046309053897857666\n",
      "Epoch: 22, Loss: 0.0800926685333252\n",
      "Epoch: 22, Loss: 0.09547591209411621\n",
      "Epoch: 22, Loss: 0.09948880225419998\n",
      "Epoch: 22, Loss: 0.04932530224323273\n",
      "Epoch: 22, Loss: 0.06989410519599915\n",
      "Epoch: 22, Loss: 0.05390337109565735\n",
      "Epoch: 22, Loss: 0.0406341478228569\n",
      "Epoch: 22, Loss: 0.15232586860656738\n",
      "Epoch: 22, Loss: 0.044170867651700974\n",
      "Epoch: 22, Loss: 0.057288140058517456\n",
      "Epoch: 23, Loss: 0.19114947319030762\n",
      "Epoch: 23, Loss: 0.04970788210630417\n",
      "Epoch: 23, Loss: 0.03835046663880348\n",
      "Epoch: 23, Loss: 0.11426658183336258\n",
      "Epoch: 23, Loss: 0.10143642127513885\n",
      "Epoch: 23, Loss: 0.06310959160327911\n",
      "Epoch: 23, Loss: 0.1069059818983078\n",
      "Epoch: 23, Loss: 0.0405077189207077\n",
      "Epoch: 23, Loss: 0.06046953797340393\n",
      "Epoch: 23, Loss: 0.048221711069345474\n",
      "Epoch: 23, Loss: 0.03281141817569733\n",
      "Epoch: 23, Loss: 0.08946733176708221\n",
      "Epoch: 23, Loss: 0.07418260723352432\n",
      "Epoch: 23, Loss: 0.09524942934513092\n",
      "Epoch: 23, Loss: 0.006459047086536884\n",
      "Epoch: 24, Loss: 0.14211179316043854\n",
      "Epoch: 24, Loss: 0.03429475426673889\n",
      "Epoch: 24, Loss: 0.04275880008935928\n",
      "Epoch: 24, Loss: 0.03829675540328026\n",
      "Epoch: 24, Loss: 0.05042758211493492\n",
      "Epoch: 24, Loss: 0.13509203493595123\n",
      "Epoch: 24, Loss: 0.19969937205314636\n",
      "Epoch: 24, Loss: 0.09069476276636124\n",
      "Epoch: 24, Loss: 0.03918648138642311\n",
      "Epoch: 24, Loss: 0.0828113704919815\n",
      "Epoch: 24, Loss: 0.053897976875305176\n",
      "Epoch: 24, Loss: 0.07534098625183105\n",
      "Epoch: 24, Loss: 0.07163718342781067\n",
      "Epoch: 24, Loss: 0.037243716418743134\n",
      "Epoch: 24, Loss: 0.021031366661190987\n",
      "Epoch: 25, Loss: 0.029487445950508118\n",
      "Epoch: 25, Loss: 0.051567140966653824\n",
      "Epoch: 25, Loss: 0.03351122513413429\n",
      "Epoch: 25, Loss: 0.2862201929092407\n",
      "Epoch: 25, Loss: 0.03597699850797653\n",
      "Epoch: 25, Loss: 0.09292630106210709\n",
      "Epoch: 25, Loss: 0.07106755673885345\n",
      "Epoch: 25, Loss: 0.07244569063186646\n",
      "Epoch: 25, Loss: 0.06106635928153992\n",
      "Epoch: 25, Loss: 0.056609753519296646\n",
      "Epoch: 25, Loss: 0.059934698045253754\n",
      "Epoch: 25, Loss: 0.09135428816080093\n",
      "Epoch: 25, Loss: 0.0461295023560524\n",
      "Epoch: 25, Loss: 0.09766580164432526\n",
      "Epoch: 25, Loss: 0.006282554008066654\n"
     ]
    }
   ],
   "source": [
    "## Training Pipeline\n",
    "for epoch in range(epochs):\n",
    "\n",
    "    for batch_features, batch_labels in train_loader:\n",
    "\n",
    "        y_pred = model(batch_features.to(torch.float32))\n",
    "        loss = loss_function(y_pred, (batch_labels.to(torch.float32)).view(-1, 1))\n",
    "        optimizer.zero_grad()\n",
    "\n",
    "        loss.backward()\n",
    "        optimizer.step()\n",
    "        print(f'Epoch: {epoch + 1}, Loss: {loss}')"
   ]
  },
  {
   "cell_type": "code",
   "execution_count": 41,
   "id": "1c500e73",
   "metadata": {},
   "outputs": [
    {
     "name": "stdout",
     "output_type": "stream",
     "text": [
      "Accuracy: 0.9549\n"
     ]
    }
   ],
   "source": [
    "model.eval()\n",
    "accuracy_list = []\n",
    "\n",
    "with torch.no_grad():\n",
    "    for batch_features, batch_labels in test_loader:\n",
    "        y_pred = model(batch_features.to(torch.float32))\n",
    "        y_pred = (y_pred > 0.8).float()\n",
    "\n",
    "        batch_accuracy = (y_pred.view(-1) == batch_labels).float().mean().item()\n",
    "        accuracy_list.append(batch_accuracy)\n",
    "    \n",
    "    overall_accuracy = sum(accuracy_list)/len(accuracy_list)\n",
    "    print(f'Accuracy: {overall_accuracy:.4f}')"
   ]
  },
  {
   "cell_type": "code",
   "execution_count": 44,
   "id": "c5adfc5c",
   "metadata": {},
   "outputs": [
    {
     "data": {
      "text/plain": [
       "array(['B', 'M'], dtype=object)"
      ]
     },
     "execution_count": 44,
     "metadata": {},
     "output_type": "execute_result"
    }
   ],
   "source": [
    "encoder.classes_"
   ]
  }
 ],
 "metadata": {
  "kernelspec": {
   "display_name": "Python 3",
   "language": "python",
   "name": "python3"
  },
  "language_info": {
   "codemirror_mode": {
    "name": "ipython",
    "version": 3
   },
   "file_extension": ".py",
   "mimetype": "text/x-python",
   "name": "python",
   "nbconvert_exporter": "python",
   "pygments_lexer": "ipython3",
   "version": "3.13.3"
  }
 },
 "nbformat": 4,
 "nbformat_minor": 5
}
