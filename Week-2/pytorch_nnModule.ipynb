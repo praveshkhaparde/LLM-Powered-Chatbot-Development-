{
 "cells": [
  {
   "cell_type": "code",
   "execution_count": 1,
   "id": "9314e426",
   "metadata": {},
   "outputs": [],
   "source": [
    "import pandas as pd\n",
    "import numpy as np\n",
    "import torch"
   ]
  },
  {
   "cell_type": "code",
   "execution_count": 2,
   "id": "1295532c",
   "metadata": {},
   "outputs": [],
   "source": [
    "import torch.nn as nn"
   ]
  },
  {
   "cell_type": "code",
   "execution_count": 3,
   "id": "c12e0f0f",
   "metadata": {},
   "outputs": [],
   "source": [
    "class Model(nn.Module): ## Inherit from the base class nn.Module\n",
    "\n",
    "    def __init__(self, num_features):\n",
    "        super().__init__()\n",
    "        self.linear = nn.Linear(num_features, 1)\n",
    "        self.sigmoid = nn.Sigmoid()\n",
    "    \n",
    "    def forward(self, features):\n",
    "        out = self.linear(features)\n",
    "        out = self.sigmoid(out)\n",
    "        return out"
   ]
  },
  {
   "cell_type": "code",
   "execution_count": 4,
   "id": "3a0be43a",
   "metadata": {},
   "outputs": [
    {
     "data": {
      "text/plain": [
       "tensor([[0.4583],\n",
       "        [0.4120],\n",
       "        [0.3610],\n",
       "        [0.4406],\n",
       "        [0.4466],\n",
       "        [0.4790],\n",
       "        [0.4898],\n",
       "        [0.4706],\n",
       "        [0.3748],\n",
       "        [0.4752]], grad_fn=<SigmoidBackward0>)"
      ]
     },
     "execution_count": 4,
     "metadata": {},
     "output_type": "execute_result"
    }
   ],
   "source": [
    "## generating random dataset\n",
    "features = torch.rand(10, 5)\n",
    "\n",
    "model = Model(features.shape[1])\n",
    "\n",
    "model(features) ## NOT NEEDED TO DO model.forward(features)"
   ]
  },
  {
   "cell_type": "code",
   "execution_count": 5,
   "id": "b7f2a91a",
   "metadata": {},
   "outputs": [
    {
     "data": {
      "text/plain": [
       "Parameter containing:\n",
       "tensor([[-0.1376,  0.2986, -0.1022,  0.3447, -0.4360]], requires_grad=True)"
      ]
     },
     "execution_count": 5,
     "metadata": {},
     "output_type": "execute_result"
    }
   ],
   "source": [
    "model.linear.weight"
   ]
  },
  {
   "cell_type": "code",
   "execution_count": 6,
   "id": "68eec8c1",
   "metadata": {},
   "outputs": [
    {
     "data": {
      "text/plain": [
       "Parameter containing:\n",
       "tensor([-0.2973], requires_grad=True)"
      ]
     },
     "execution_count": 6,
     "metadata": {},
     "output_type": "execute_result"
    }
   ],
   "source": [
    "model.linear.bias"
   ]
  },
  {
   "cell_type": "code",
   "execution_count": 7,
   "id": "35913f52",
   "metadata": {},
   "outputs": [],
   "source": [
    "from torchinfo import summary"
   ]
  },
  {
   "cell_type": "code",
   "execution_count": 8,
   "id": "33bfe449",
   "metadata": {},
   "outputs": [
    {
     "data": {
      "text/plain": [
       "==========================================================================================\n",
       "Layer (type:depth-idx)                   Output Shape              Param #\n",
       "==========================================================================================\n",
       "Model                                    [10, 1]                   --\n",
       "├─Linear: 1-1                            [10, 1]                   6\n",
       "├─Sigmoid: 1-2                           [10, 1]                   --\n",
       "==========================================================================================\n",
       "Total params: 6\n",
       "Trainable params: 6\n",
       "Non-trainable params: 0\n",
       "Total mult-adds (Units.MEGABYTES): 0.00\n",
       "==========================================================================================\n",
       "Input size (MB): 0.00\n",
       "Forward/backward pass size (MB): 0.00\n",
       "Params size (MB): 0.00\n",
       "Estimated Total Size (MB): 0.00\n",
       "=========================================================================================="
      ]
     },
     "execution_count": 8,
     "metadata": {},
     "output_type": "execute_result"
    }
   ],
   "source": [
    "summary(model, input_size=(10, 5))"
   ]
  },
  {
   "cell_type": "code",
   "execution_count": 10,
   "id": "c9b0b7af",
   "metadata": {},
   "outputs": [],
   "source": [
    "class ANN(nn.Module):\n",
    "    def __init__(self, num_features):\n",
    "        super().__init__()\n",
    "        self.linear1 = nn.Linear(num_features, 3) ## 3 neurons in hidden layer\n",
    "        self.relu = nn.ReLU()\n",
    "        self.linear2 = nn.Linear(3, 1)\n",
    "        self.sigmoid = nn.Sigmoid()\n",
    "\n",
    "    def forward(self, features):\n",
    "        out = self.linear1(features)\n",
    "        out = self.relu(out)\n",
    "        out = self.linear2(out)\n",
    "        out = self.sigmoid(out)\n",
    "        return out"
   ]
  },
  {
   "cell_type": "code",
   "execution_count": 11,
   "id": "beb5e314",
   "metadata": {},
   "outputs": [],
   "source": [
    "features = torch.rand(10, 5)\n",
    "\n",
    "model = ANN(features.shape[1])"
   ]
  },
  {
   "cell_type": "code",
   "execution_count": 12,
   "id": "9095f236",
   "metadata": {},
   "outputs": [
    {
     "data": {
      "text/plain": [
       "tensor([[0.5580],\n",
       "        [0.5664],\n",
       "        [0.5580],\n",
       "        [0.5603],\n",
       "        [0.5505],\n",
       "        [0.5580],\n",
       "        [0.6171],\n",
       "        [0.5796],\n",
       "        [0.5845],\n",
       "        [0.5679]], grad_fn=<SigmoidBackward0>)"
      ]
     },
     "execution_count": 12,
     "metadata": {},
     "output_type": "execute_result"
    }
   ],
   "source": [
    "model(features)"
   ]
  },
  {
   "cell_type": "code",
   "execution_count": 13,
   "id": "f40dff18",
   "metadata": {},
   "outputs": [
    {
     "data": {
      "text/plain": [
       "Parameter containing:\n",
       "tensor([[-0.2449,  0.2946, -0.3984, -0.3389,  0.3004],\n",
       "        [ 0.3590, -0.2259,  0.3145,  0.1619, -0.4302],\n",
       "        [ 0.4224, -0.2112,  0.2726, -0.2231, -0.1493]], requires_grad=True)"
      ]
     },
     "execution_count": 13,
     "metadata": {},
     "output_type": "execute_result"
    }
   ],
   "source": [
    "model.linear1.weight"
   ]
  },
  {
   "cell_type": "code",
   "execution_count": 14,
   "id": "0ccd0ab2",
   "metadata": {},
   "outputs": [
    {
     "data": {
      "text/plain": [
       "=================================================================\n",
       "Layer (type:depth-idx)                   Param #\n",
       "=================================================================\n",
       "ANN                                      --\n",
       "├─Linear: 1-1                            18\n",
       "├─ReLU: 1-2                              --\n",
       "├─Linear: 1-3                            4\n",
       "├─Sigmoid: 1-4                           --\n",
       "=================================================================\n",
       "Total params: 22\n",
       "Trainable params: 22\n",
       "Non-trainable params: 0\n",
       "================================================================="
      ]
     },
     "execution_count": 14,
     "metadata": {},
     "output_type": "execute_result"
    }
   ],
   "source": [
    "summary(model)"
   ]
  },
  {
   "cell_type": "code",
   "execution_count": 15,
   "id": "9fc43bdc",
   "metadata": {},
   "outputs": [],
   "source": [
    "class ANN2(nn.Module):\n",
    "    ## using Sequential Container\n",
    "    def __init__(self, num_features):\n",
    "        super().__init__()\n",
    "        self.network = nn.Sequential(\n",
    "            nn.Linear(num_features, 3),\n",
    "            nn.ReLU(),\n",
    "            nn.Linear(3, 1),\n",
    "            nn.Sigmoid()\n",
    "        )\n",
    "\n",
    "    def forward(self, features):\n",
    "        out = self.network(features)\n",
    "        return out"
   ]
  },
  {
   "cell_type": "code",
   "execution_count": 16,
   "id": "705079f8",
   "metadata": {},
   "outputs": [],
   "source": [
    "features = torch.rand(10, 5)\n",
    "\n",
    "model = ANN2(features.shape[1])"
   ]
  },
  {
   "cell_type": "code",
   "execution_count": 17,
   "id": "2cedba4f",
   "metadata": {},
   "outputs": [
    {
     "data": {
      "text/plain": [
       "tensor([[0.3697],\n",
       "        [0.3536],\n",
       "        [0.3753],\n",
       "        [0.3678],\n",
       "        [0.4038],\n",
       "        [0.3553],\n",
       "        [0.3762],\n",
       "        [0.3536],\n",
       "        [0.3761],\n",
       "        [0.3378]], grad_fn=<SigmoidBackward0>)"
      ]
     },
     "execution_count": 17,
     "metadata": {},
     "output_type": "execute_result"
    }
   ],
   "source": [
    "model(features)"
   ]
  },
  {
   "cell_type": "code",
   "execution_count": 18,
   "id": "0c46cd0f",
   "metadata": {},
   "outputs": [
    {
     "data": {
      "text/plain": [
       "=================================================================\n",
       "Layer (type:depth-idx)                   Param #\n",
       "=================================================================\n",
       "ANN2                                     --\n",
       "├─Sequential: 1-1                        --\n",
       "│    └─Linear: 2-1                       18\n",
       "│    └─ReLU: 2-2                         --\n",
       "│    └─Linear: 2-3                       4\n",
       "│    └─Sigmoid: 2-4                      --\n",
       "=================================================================\n",
       "Total params: 22\n",
       "Trainable params: 22\n",
       "Non-trainable params: 0\n",
       "================================================================="
      ]
     },
     "execution_count": 18,
     "metadata": {},
     "output_type": "execute_result"
    }
   ],
   "source": [
    "summary(model)"
   ]
  },
  {
   "cell_type": "code",
   "execution_count": 19,
   "id": "1384db6d",
   "metadata": {},
   "outputs": [],
   "source": [
    "from sklearn.model_selection import train_test_split\n",
    "from sklearn.preprocessing import StandardScaler\n",
    "from sklearn.preprocessing import LabelEncoder"
   ]
  },
  {
   "cell_type": "code",
   "execution_count": 20,
   "id": "ecd6bf8f",
   "metadata": {},
   "outputs": [],
   "source": [
    "df = pd.read_csv('https://raw.githubusercontent.com/gscdit/Breast-Cancer-Detection/refs/heads/master/data.csv')"
   ]
  },
  {
   "cell_type": "code",
   "execution_count": 21,
   "id": "d117ec25",
   "metadata": {},
   "outputs": [],
   "source": [
    "df.drop(columns= ['id', 'Unnamed: 32'], inplace=True)"
   ]
  },
  {
   "cell_type": "code",
   "execution_count": 24,
   "id": "70289bee",
   "metadata": {},
   "outputs": [],
   "source": [
    "X_train, X_test, y_train, y_test = train_test_split(df.iloc[:, 1:], df.iloc[:, 0], test_size=0.2)"
   ]
  },
  {
   "cell_type": "code",
   "execution_count": 25,
   "id": "ee0f2102",
   "metadata": {},
   "outputs": [],
   "source": [
    "scaler = StandardScaler()\n",
    "X_train = scaler.fit_transform(X_train)\n",
    "X_test = scaler.fit_transform(X_test)"
   ]
  },
  {
   "cell_type": "code",
   "execution_count": 26,
   "id": "ec83c3c9",
   "metadata": {},
   "outputs": [],
   "source": [
    "encoder = LabelEncoder()\n",
    "y_train = encoder.fit_transform(y_train)\n",
    "y_test = encoder.transform(y_test)"
   ]
  },
  {
   "cell_type": "code",
   "execution_count": 27,
   "id": "1c89c219",
   "metadata": {},
   "outputs": [],
   "source": [
    "X_train_tensor = torch.from_numpy(X_train)\n",
    "y_train_tensor = torch.from_numpy(y_train)\n",
    "X_test_tensor = torch.from_numpy(X_test)\n",
    "y_test_tensor = torch.from_numpy(y_test)"
   ]
  },
  {
   "cell_type": "code",
   "execution_count": 28,
   "id": "6e99cd79",
   "metadata": {},
   "outputs": [],
   "source": [
    "class MySimpleNN(nn.Module):\n",
    "\n",
    "    def __init__(self, num_features):\n",
    "        super().__init__()\n",
    "        self.linear = nn.Linear(num_features, 1)\n",
    "        self.sigmoid = nn.Sigmoid()\n",
    "\n",
    "    def forward(self, features):\n",
    "        out = self.linear(features)\n",
    "        out = self.sigmoid(out)\n",
    "        return out\n",
    "\n",
    "    def loss_function(self, y_pred, y):\n",
    "        ## Clamp predictions to avoid log(0)\n",
    "        epsilon = 1e-7\n",
    "        y_pred = torch.clamp(y_pred, epsilon, 1 - epsilon)\n",
    "\n",
    "        ## Calculate loss\n",
    "        loss = -(y * torch.log(y_pred) + (1 - y) * torch.log(1 - y_pred)).mean()\n",
    "        return loss"
   ]
  },
  {
   "cell_type": "code",
   "execution_count": 29,
   "id": "e7885324",
   "metadata": {},
   "outputs": [],
   "source": [
    "learning_rate = 0.1\n",
    "epochs = 25"
   ]
  },
  {
   "cell_type": "code",
   "execution_count": 37,
   "id": "c46fc713",
   "metadata": {},
   "outputs": [],
   "source": [
    "model = MySimpleNN(X_train_tensor.shape[1])"
   ]
  },
  {
   "cell_type": "code",
   "execution_count": 38,
   "id": "a7e86c94",
   "metadata": {},
   "outputs": [
    {
     "name": "stdout",
     "output_type": "stream",
     "text": [
      "Epoch: 1, Loss: 0.7548062801361084\n",
      "Epoch: 2, Loss: 0.7481001019477844\n",
      "Epoch: 3, Loss: 0.7420361638069153\n",
      "Epoch: 4, Loss: 0.7365206480026245\n",
      "Epoch: 5, Loss: 0.7314780354499817\n",
      "Epoch: 6, Loss: 0.7268463969230652\n",
      "Epoch: 7, Loss: 0.7225750088691711\n",
      "Epoch: 8, Loss: 0.718622088432312\n",
      "Epoch: 9, Loss: 0.7149527072906494\n",
      "Epoch: 10, Loss: 0.7115377187728882\n",
      "Epoch: 11, Loss: 0.7083523273468018\n",
      "Epoch: 12, Loss: 0.7053754925727844\n",
      "Epoch: 13, Loss: 0.7025890350341797\n",
      "Epoch: 14, Loss: 0.699977457523346\n",
      "Epoch: 15, Loss: 0.6975268125534058\n",
      "Epoch: 16, Loss: 0.6952248215675354\n",
      "Epoch: 17, Loss: 0.6930607557296753\n",
      "Epoch: 18, Loss: 0.6910250186920166\n",
      "Epoch: 19, Loss: 0.6891084909439087\n",
      "Epoch: 20, Loss: 0.6873031854629517\n",
      "Epoch: 21, Loss: 0.6856018900871277\n",
      "Epoch: 22, Loss: 0.6839979887008667\n",
      "Epoch: 23, Loss: 0.6824849843978882\n",
      "Epoch: 24, Loss: 0.6810572147369385\n",
      "Epoch: 25, Loss: 0.6797094941139221\n"
     ]
    }
   ],
   "source": [
    "for epoch in range(epochs):\n",
    "    y_pred = model(X_train_tensor.to(torch.float32))\n",
    "    loss = model.loss_function(y_pred, y_train_tensor)\n",
    "\n",
    "    loss.backward()\n",
    "\n",
    "    with torch.no_grad():\n",
    "        model.linear.weight -= learning_rate * model.linear.weight.grad\n",
    "        model.linear.bias -= learning_rate * model.linear.bias.grad\n",
    "    \n",
    "    model.linear.weight.grad.zero_()\n",
    "    model.linear.bias.grad.zero_()\n",
    "\n",
    "    print(f'Epoch: {epoch + 1}, Loss: {loss}')"
   ]
  },
  {
   "cell_type": "code",
   "execution_count": 41,
   "id": "a3162aa2",
   "metadata": {},
   "outputs": [],
   "source": [
    "with torch.no_grad():\n",
    "    y_pred = model.forward(X_test_tensor.to(torch.float32))"
   ]
  },
  {
   "cell_type": "code",
   "execution_count": 42,
   "id": "5d759ac1",
   "metadata": {},
   "outputs": [],
   "source": [
    "y_pred = (y_pred > 0.5).float()"
   ]
  },
  {
   "cell_type": "code",
   "execution_count": 43,
   "id": "863134c1",
   "metadata": {},
   "outputs": [],
   "source": [
    "accuracy = (y_pred == y_test_tensor).float().mean()"
   ]
  },
  {
   "cell_type": "code",
   "execution_count": 44,
   "id": "f9ddb228",
   "metadata": {},
   "outputs": [
    {
     "data": {
      "text/plain": [
       "tensor(0.5499)"
      ]
     },
     "execution_count": 44,
     "metadata": {},
     "output_type": "execute_result"
    }
   ],
   "source": [
    "accuracy"
   ]
  },
  {
   "cell_type": "code",
   "execution_count": 45,
   "id": "bf4ea746",
   "metadata": {},
   "outputs": [],
   "source": [
    "loss_function = nn.BCELoss()"
   ]
  },
  {
   "cell_type": "code",
   "execution_count": 46,
   "id": "0da42853",
   "metadata": {},
   "outputs": [],
   "source": [
    "class MySimpleNN(nn.Module):\n",
    "    ## Using built-in loss function\n",
    "    def __init__(self, num_features):\n",
    "        super().__init__()\n",
    "        self.linear = nn.Linear(num_features, 1)\n",
    "        self.sigmoid = nn.Sigmoid()\n",
    "\n",
    "    def forward(self, features):\n",
    "        out = self.linear(features)\n",
    "        out = self.sigmoid(out)\n",
    "        return out"
   ]
  },
  {
   "cell_type": "code",
   "execution_count": 48,
   "id": "234d66cd",
   "metadata": {},
   "outputs": [
    {
     "data": {
      "text/plain": [
       "torch.Size([455])"
      ]
     },
     "execution_count": 48,
     "metadata": {},
     "output_type": "execute_result"
    }
   ],
   "source": [
    "y_train_tensor.shape"
   ]
  },
  {
   "cell_type": "code",
   "execution_count": 51,
   "id": "3cd0468e",
   "metadata": {},
   "outputs": [
    {
     "data": {
      "text/plain": [
       "torch.Size([455, 1])"
      ]
     },
     "execution_count": 51,
     "metadata": {},
     "output_type": "execute_result"
    }
   ],
   "source": [
    "y_pred.shape"
   ]
  },
  {
   "cell_type": "code",
   "execution_count": 53,
   "id": "722aaaaa",
   "metadata": {},
   "outputs": [
    {
     "data": {
      "text/plain": [
       "torch.float32"
      ]
     },
     "execution_count": 53,
     "metadata": {},
     "output_type": "execute_result"
    }
   ],
   "source": [
    "y_pred.dtype"
   ]
  },
  {
   "cell_type": "code",
   "execution_count": 55,
   "id": "c3354091",
   "metadata": {},
   "outputs": [
    {
     "data": {
      "text/plain": [
       "torch.int64"
      ]
     },
     "execution_count": 55,
     "metadata": {},
     "output_type": "execute_result"
    }
   ],
   "source": [
    "y_train_tensor.dtype"
   ]
  },
  {
   "cell_type": "code",
   "execution_count": 56,
   "id": "2ffe39d7",
   "metadata": {},
   "outputs": [
    {
     "name": "stdout",
     "output_type": "stream",
     "text": [
      "Epoch: 1, Loss: 0.6233302354812622\n",
      "Epoch: 2, Loss: 0.48887813091278076\n",
      "Epoch: 3, Loss: 0.4146709740161896\n",
      "Epoch: 4, Loss: 0.3670973777770996\n",
      "Epoch: 5, Loss: 0.33344826102256775\n",
      "Epoch: 6, Loss: 0.30807045102119446\n",
      "Epoch: 7, Loss: 0.2880565822124481\n",
      "Epoch: 8, Loss: 0.2717464864253998\n",
      "Epoch: 9, Loss: 0.25811734795570374\n",
      "Epoch: 10, Loss: 0.24650143086910248\n",
      "Epoch: 11, Loss: 0.23644238710403442\n",
      "Epoch: 12, Loss: 0.22761695086956024\n",
      "Epoch: 13, Loss: 0.21978892385959625\n",
      "Epoch: 14, Loss: 0.2127813696861267\n",
      "Epoch: 15, Loss: 0.2064586579799652\n",
      "Epoch: 16, Loss: 0.20071512460708618\n",
      "Epoch: 17, Loss: 0.19546690583229065\n",
      "Epoch: 18, Loss: 0.19064649939537048\n",
      "Epoch: 19, Loss: 0.1861988753080368\n",
      "Epoch: 20, Loss: 0.18207862973213196\n",
      "Epoch: 21, Loss: 0.17824800312519073\n",
      "Epoch: 22, Loss: 0.17467515170574188\n",
      "Epoch: 23, Loss: 0.17133305966854095\n",
      "Epoch: 24, Loss: 0.1681986004114151\n",
      "Epoch: 25, Loss: 0.16525186598300934\n"
     ]
    }
   ],
   "source": [
    "model = MySimpleNN(X_train.shape[1])\n",
    "for epoch in range(epochs):\n",
    "    y_pred = model(X_train_tensor.to(torch.float32))\n",
    "    loss = loss_function(y_pred, (y_train_tensor.to(torch.float32)).view(-1, 1))\n",
    "\n",
    "    loss.backward()\n",
    "\n",
    "    with torch.no_grad():\n",
    "        model.linear.weight -= learning_rate * model.linear.weight.grad\n",
    "        model.linear.bias -= learning_rate * model.linear.bias.grad\n",
    "    \n",
    "    model.linear.weight.grad.zero_()\n",
    "    model.linear.bias.grad.zero_()\n",
    "\n",
    "    print(f'Epoch: {epoch + 1}, Loss: {loss}')"
   ]
  },
  {
   "cell_type": "code",
   "execution_count": 61,
   "id": "610bdfa1",
   "metadata": {},
   "outputs": [
    {
     "name": "stdout",
     "output_type": "stream",
     "text": [
      "Accuracy: 0.5193905830383301\n"
     ]
    }
   ],
   "source": [
    "with torch.no_grad():\n",
    "    y_pred = model.forward(X_test_tensor.to(torch.float32))\n",
    "    y_pred = (y_pred > 0.5).float()\n",
    "    accuracy = (y_pred == y_test_tensor).float().mean()\n",
    "    print(f'Accuracy: {accuracy}')"
   ]
  },
  {
   "cell_type": "code",
   "execution_count": 63,
   "id": "b2df680f",
   "metadata": {},
   "outputs": [],
   "source": [
    "model = MySimpleNN(X_train.shape[1])\n",
    "optimizer = torch.optim.SGD(model.parameters(), lr = learning_rate)"
   ]
  },
  {
   "cell_type": "code",
   "execution_count": 64,
   "id": "cd71702a",
   "metadata": {},
   "outputs": [
    {
     "name": "stdout",
     "output_type": "stream",
     "text": [
      "Epoch: 1, Loss: 0.588299572467804\n",
      "Epoch: 2, Loss: 0.4563797414302826\n",
      "Epoch: 3, Loss: 0.38568392395973206\n",
      "Epoch: 4, Loss: 0.3415355682373047\n",
      "Epoch: 5, Loss: 0.31078729033470154\n",
      "Epoch: 6, Loss: 0.2878243625164032\n",
      "Epoch: 7, Loss: 0.26983824372291565\n",
      "Epoch: 8, Loss: 0.2552543580532074\n",
      "Epoch: 9, Loss: 0.24311448633670807\n",
      "Epoch: 10, Loss: 0.23279890418052673\n",
      "Epoch: 11, Loss: 0.22388722002506256\n",
      "Epoch: 12, Loss: 0.21608319878578186\n",
      "Epoch: 13, Loss: 0.2091715782880783\n",
      "Epoch: 14, Loss: 0.2029915153980255\n",
      "Epoch: 15, Loss: 0.1974204033613205\n",
      "Epoch: 16, Loss: 0.19236283004283905\n",
      "Epoch: 17, Loss: 0.18774326145648956\n",
      "Epoch: 18, Loss: 0.18350104987621307\n",
      "Epoch: 19, Loss: 0.17958687245845795\n",
      "Epoch: 20, Loss: 0.17596009373664856\n",
      "Epoch: 21, Loss: 0.17258691787719727\n",
      "Epoch: 22, Loss: 0.1694389432668686\n",
      "Epoch: 23, Loss: 0.16649207472801208\n",
      "Epoch: 24, Loss: 0.16372579336166382\n",
      "Epoch: 25, Loss: 0.16112245619297028\n"
     ]
    }
   ],
   "source": [
    "## Using torch.optim optimizer for training\n",
    "\n",
    "for epoch in range(epochs):\n",
    "    y_pred = model(X_train_tensor.to(torch.float32))\n",
    "    loss = loss_function(y_pred, (y_train_tensor.to(torch.float32)).view(-1, 1))\n",
    "    ## Recommended that we should clear grads just before backward pass\n",
    "    optimizer.zero_grad()\n",
    "\n",
    "    loss.backward()\n",
    "\n",
    "    optimizer.step()\n",
    "    \n",
    "    \n",
    "\n",
    "    print(f'Epoch: {epoch + 1}, Loss: {loss}')"
   ]
  },
  {
   "cell_type": "code",
   "execution_count": 65,
   "id": "d71690e7",
   "metadata": {},
   "outputs": [
    {
     "name": "stdout",
     "output_type": "stream",
     "text": [
      "Accuracy: 0.5180055499076843\n"
     ]
    }
   ],
   "source": [
    "with torch.no_grad():\n",
    "    y_pred = model.forward(X_test_tensor.to(torch.float32))\n",
    "    y_pred = (y_pred > 0.5).float()\n",
    "    accuracy = (y_pred == y_test_tensor).float().mean()\n",
    "    print(f'Accuracy: {accuracy}')"
   ]
  },
  {
   "cell_type": "code",
   "execution_count": null,
   "id": "f6753c9a",
   "metadata": {},
   "outputs": [],
   "source": []
  }
 ],
 "metadata": {
  "kernelspec": {
   "display_name": "Python 3",
   "language": "python",
   "name": "python3"
  },
  "language_info": {
   "codemirror_mode": {
    "name": "ipython",
    "version": 3
   },
   "file_extension": ".py",
   "mimetype": "text/x-python",
   "name": "python",
   "nbconvert_exporter": "python",
   "pygments_lexer": "ipython3",
   "version": "3.13.3"
  }
 },
 "nbformat": 4,
 "nbformat_minor": 5
}
